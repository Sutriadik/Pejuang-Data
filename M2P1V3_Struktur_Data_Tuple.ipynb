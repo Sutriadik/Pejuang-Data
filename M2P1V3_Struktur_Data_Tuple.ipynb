{
  "nbformat": 4,
  "nbformat_minor": 0,
  "metadata": {
    "colab": {
      "name": "M2P1V3_Struktur_Data_Tuple.ipynb",
      "provenance": [],
      "collapsed_sections": [],
      "authorship_tag": "ABX9TyMJe2nRECi0sqHn0oz1Je4Y",
      "include_colab_link": true
    },
    "kernelspec": {
      "name": "python3",
      "display_name": "Python 3"
    },
    "language_info": {
      "name": "python"
    }
  },
  "cells": [
    {
      "cell_type": "markdown",
      "metadata": {
        "id": "view-in-github",
        "colab_type": "text"
      },
      "source": [
        "<a href=\"https://colab.research.google.com/github/Sutriadik/Pejuang-Data_Science/blob/main/M2P1V3_Struktur_Data_Tuple.ipynb\" target=\"_parent\"><img src=\"https://colab.research.google.com/assets/colab-badge.svg\" alt=\"Open In Colab\"/></a>"
      ]
    },
    {
      "cell_type": "markdown",
      "metadata": {
        "id": "3gwQkmZrVl14"
      },
      "source": [
        "# Struktur Data Tuple"
      ]
    },
    {
      "cell_type": "markdown",
      "metadata": {
        "id": "U7XNVZhDVtPw"
      },
      "source": [
        "Tuple adalah jenis dari struktur data yang tidak dapat diubah elemennya. Umumnya tuple digunakan untuk data yang bersifat sekali tulis, dan dapat dieksekusi lebih cepat. Tuple didefinisikan dengan kurung dan elemen yang dipisahkan dengan koma."
      ]
    },
    {
      "cell_type": "code",
      "metadata": {
        "colab": {
          "base_uri": "https://localhost:8080/"
        },
        "id": "HrJKBbcLWUQy",
        "outputId": "5d56bf31-a0a4-4c58-8947-0bd70211fdd5"
      },
      "source": [
        "[1] # Contoh tuple\n",
        "T1 = (1, \"dua\", True, 1+2j)\n",
        "print (\"ini adalah Tuple\", T1)"
      ],
      "execution_count": null,
      "outputs": [
        {
          "output_type": "stream",
          "name": "stdout",
          "text": [
            "ini adalah Tuple (1, 'dua', True, (1+2j))\n"
          ]
        }
      ]
    },
    {
      "cell_type": "code",
      "metadata": {
        "colab": {
          "base_uri": "https://localhost:8080/"
        },
        "id": "snGMNcOPWluh",
        "outputId": "8de49f81-440e-4d3e-88c5-dc191f30f97f"
      },
      "source": [
        "[2] #Menampilkan tipe struktur data\n",
        "print(type(T1))\n",
        "type(T1)"
      ],
      "execution_count": null,
      "outputs": [
        {
          "output_type": "stream",
          "name": "stdout",
          "text": [
            "<class 'tuple'>\n"
          ]
        },
        {
          "output_type": "execute_result",
          "data": {
            "text/plain": [
              "tuple"
            ]
          },
          "metadata": {},
          "execution_count": 6
        }
      ]
    },
    {
      "cell_type": "markdown",
      "metadata": {
        "id": "M27A9SDqXGzg"
      },
      "source": [
        "Latihan 1"
      ]
    },
    {
      "cell_type": "code",
      "metadata": {
        "colab": {
          "base_uri": "https://localhost:8080/"
        },
        "id": "VlzbqRBVXQGw",
        "outputId": "17e4a1a1-93f5-4917-aaac-f75df1077c38"
      },
      "source": [
        "#Tuple\n",
        "S1 = (5, \"empat\", True, 3+4j)\n",
        "S2 = (1, 3, 5, 7, 9)\n",
        "print (\"ini adalah Tuple\", S1)\n",
        "print (\"ini adalah Tuple\", S2)\n",
        "\n",
        "print('-'*20)\n",
        "print('-'*20)\n",
        "\n",
        "#Menampilkan tipe struktur data\n",
        "print(\"tipe Data S1\",type(S1))\n",
        "print(\"tipe Data S2\",type(S1))\n"
      ],
      "execution_count": null,
      "outputs": [
        {
          "output_type": "stream",
          "name": "stdout",
          "text": [
            "ini adalah Tuple (5, 'empat', True, (3+4j))\n",
            "ini adalah Tuple (1, 3, 5, 7, 9)\n",
            "--------------------\n",
            "--------------------\n",
            "tipe Data S1 <class 'tuple'>\n",
            "tipe Data S2 <class 'tuple'>\n"
          ]
        }
      ]
    },
    {
      "cell_type": "markdown",
      "metadata": {
        "id": "ORvVkjZGY6uD"
      },
      "source": [
        "Sifat-Sifat Tuple"
      ]
    },
    {
      "cell_type": "code",
      "metadata": {
        "colab": {
          "base_uri": "https://localhost:8080/"
        },
        "id": "khuBtYSUZB2y",
        "outputId": "e6839ec7-1686-41ba-efec-9ab8d926b875"
      },
      "source": [
        "#Terurut/Ordered\n",
        "T1[0:4]"
      ],
      "execution_count": null,
      "outputs": [
        {
          "output_type": "execute_result",
          "data": {
            "text/plain": [
              "(1, 'dua', True, (1+2j))"
            ]
          },
          "metadata": {},
          "execution_count": 30
        }
      ]
    },
    {
      "cell_type": "code",
      "metadata": {
        "id": "Rov_Bp0oZKRR"
      },
      "source": [
        "#Tidak bisa diganti/immutable\n",
        "#T1[2] = \"manusia\""
      ],
      "execution_count": null,
      "outputs": []
    },
    {
      "cell_type": "code",
      "metadata": {
        "colab": {
          "base_uri": "https://localhost:8080/"
        },
        "id": "H6xe8rGuZnLo",
        "outputId": "1dcdae35-9108-435c-dd49-43f73f2dbcb1"
      },
      "source": [
        "#Dapat diindeks/Slicing\n",
        "print(\"elemen kedua dari tuple T1: \", T1[1])"
      ],
      "execution_count": null,
      "outputs": [
        {
          "output_type": "stream",
          "name": "stdout",
          "text": [
            "elemen kedua dari tuple T1:  dua\n"
          ]
        }
      ]
    },
    {
      "cell_type": "code",
      "metadata": {
        "colab": {
          "base_uri": "https://localhost:8080/"
        },
        "id": "j3mqjTIibxCr",
        "outputId": "c854394f-7b67-410c-d4b5-2126061b00e3"
      },
      "source": [
        "#Dapat diizinkan Duplikasi\n",
        "T2 = (3,2,4,True,2.4)\n",
        "T2"
      ],
      "execution_count": null,
      "outputs": [
        {
          "output_type": "execute_result",
          "data": {
            "text/plain": [
              "(3, 2, 4, True, 2.4)"
            ]
          },
          "metadata": {},
          "execution_count": 22
        }
      ]
    },
    {
      "cell_type": "markdown",
      "metadata": {
        "id": "4SS0ngz5cG9h"
      },
      "source": [
        "Menggabungkan Tuple"
      ]
    },
    {
      "cell_type": "code",
      "metadata": {
        "colab": {
          "base_uri": "https://localhost:8080/"
        },
        "id": "iBiV1Z-hcN-i",
        "outputId": "17b172cd-c6ce-4acd-cfac-5eec806d2148"
      },
      "source": [
        "#Menggabungkan Tuple\n",
        "T3 = T1 + T2\n",
        "T3"
      ],
      "execution_count": null,
      "outputs": [
        {
          "output_type": "execute_result",
          "data": {
            "text/plain": [
              "(1, 'dua', True, (1+2j), 3, 2, 4, True, 2.4)"
            ]
          },
          "metadata": {},
          "execution_count": 23
        }
      ]
    },
    {
      "cell_type": "markdown",
      "metadata": {
        "id": "ruM5WGLEcT0O"
      },
      "source": [
        "Latihan 2"
      ]
    },
    {
      "cell_type": "code",
      "metadata": {
        "colab": {
          "base_uri": "https://localhost:8080/"
        },
        "id": "kYwuvhjQcVoH",
        "outputId": "447e5418-1c66-4820-9338-b1ea471dd992"
      },
      "source": [
        "S1 = (5,\"empat\",True,3+4j)\n",
        "S2 = (1, 3, 5, 7, 9)\n",
        "\n",
        "#Terurut/Ordered\n",
        "print(\"memamnggil list dengan indeks\" ,S1[1:4])\n",
        "print(\"memamnggil list dengan indeks\" ,S2[0:2])\n",
        "print('-'*20)\n",
        "\n",
        "#Mengindeks/slicing\n",
        "print(\"elemen kedua dari tuple S1: \", S1[1])\n",
        "print(\"elemen pertama dari tuple S2: \", S2[0])\n",
        "print('-'*20)\n",
        "\n",
        "#Menggabungkan 2 buah Tuple\n",
        "S1 = (5, \"empat\", True, 3+4j)\n",
        "S2 = (1, 3, 5, 7, 9)\n",
        "A = (0,1,2,3,4,5)\n",
        "B = (6,7,8,9,10)\n",
        "print(\"penggabungan 2 buah tuple :\", S1+S2)\n",
        "print(\"penggabungan 2 buah tuple :\", A+B)"
      ],
      "execution_count": null,
      "outputs": [
        {
          "output_type": "stream",
          "name": "stdout",
          "text": [
            "memamnggil list dengan indeks ('empat', True, (3+4j))\n",
            "memamnggil list dengan indeks (1, 3)\n",
            "--------------------\n",
            "elemen kedua dari tuple S1:  empat\n",
            "elemen pertama dari tuple S2:  1\n",
            "--------------------\n",
            "penggabungan 2 buah tuple : (5, 'empat', True, (3+4j), 1, 3, 5, 7, 9)\n",
            "penggabungan 2 buah tuple : (0, 1, 2, 3, 4, 5, 6, 7, 8, 9, 10)\n"
          ]
        }
      ]
    }
  ]
}