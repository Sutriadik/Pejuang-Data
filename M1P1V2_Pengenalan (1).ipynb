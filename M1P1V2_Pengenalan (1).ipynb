{
  "nbformat": 4,
  "nbformat_minor": 0,
  "metadata": {
    "colab": {
      "name": "M1P1V2_Pengenalan.ipynb",
      "provenance": []
    },
    "kernelspec": {
      "name": "python3",
      "display_name": "Python 3"
    },
    "language_info": {
      "name": "python"
    }
  },
  "cells": [
    {
      "cell_type": "markdown",
      "metadata": {
        "id": "wWRSGoZB9cRn"
      },
      "source": [
        "Perkenalkan Nama saya Sutriadi Kurniawan"
      ]
    },
    {
      "cell_type": "code",
      "metadata": {
        "colab": {
          "base_uri": "https://localhost:8080/"
        },
        "id": "i8X17n_K4uBN",
        "outputId": "a9ac977b-e6ff-412b-be69-575915b4ecaa"
      },
      "source": [
        "print(\"belajar Python menyenangkan\")\n",
        "print(\"halo dunia\") "
      ],
      "execution_count": 3,
      "outputs": [
        {
          "output_type": "stream",
          "name": "stdout",
          "text": [
            "belajar Python menyenangkan\n",
            "halo dunia\n"
          ]
        }
      ]
    },
    {
      "cell_type": "markdown",
      "metadata": {
        "id": "KnVC7zN25TJl"
      },
      "source": [
        "Pengenalan Python \n",
        "Python adalah Bahasa pemrograman tingkat tinggi dengan dynamic semantics , bersifat object oriented, dan interpretatif. Bahasa pemrograman ini fokus dikembangkan pada keterbacaan bahasa pemrograman. \n",
        "1. Bahasa Pemrograman Tingkat Tinggi(High Level Programming) Artinya sintaks kode lebih mudah ditafsirkan oleh manusia. \n",
        "2. Interpretatif Ini artinya bahasa ini memerlukan intrepeter atau penerjemah. Ini memungkinkan bagi kita untuk menggunakan Bahasa yang \n",
        "lebih mudah kita pahami.\n",
        "3. Object Oriented Ini berarti bahwa bahasa pemrograman ini berorientasi kepada objek. Hal ini membuat Python lebih mudah untuk \n",
        "dikembangkan. \n",
        "4. Dynamic Semantics Python secara otomatis akan menyesuaikan tipe dari suatu variable berdasarkan inputnya. "
      ]
    },
    {
      "cell_type": "markdown",
      "metadata": {
        "id": "vsRxtKCP5abX"
      },
      "source": [
        "Why Pyhton??\n",
        "1. Mudah dipahami \n",
        "2. Gratis & Open Source \n",
        "3. Dinamis\n",
        "4. Memiliki Library Terlengkap untuk Data Sains"
      ]
    },
    {
      "cell_type": "code",
      "metadata": {
        "id": "muroj6W05uxn"
      },
      "source": [
        "bilangan1 = 5 \n",
        "bilangan2 = 10 \n",
        "kalimat = \"Pejuang Data 3\" \n",
        "\n"
      ],
      "execution_count": 11,
      "outputs": []
    },
    {
      "cell_type": "code",
      "metadata": {
        "colab": {
          "base_uri": "https://localhost:8080/"
        },
        "id": "F0zN8S1VFovg",
        "outputId": "8eb949b8-9064-4b89-d4ef-a31008029773"
      },
      "source": [
        "bilangan1 + bilangan2"
      ],
      "execution_count": 12,
      "outputs": [
        {
          "output_type": "execute_result",
          "data": {
            "text/plain": [
              "15"
            ]
          },
          "metadata": {},
          "execution_count": 12
        }
      ]
    },
    {
      "cell_type": "code",
      "metadata": {
        "colab": {
          "base_uri": "https://localhost:8080/"
        },
        "id": "5OHB7LahC9rI",
        "outputId": "4d6d40b2-d5af-4b44-a629-b3ffa9c51a12"
      },
      "source": [
        "#ini comment\n",
        "print(\"belajar phyton\")"
      ],
      "execution_count": 3,
      "outputs": [
        {
          "output_type": "stream",
          "name": "stdout",
          "text": [
            "belajar phyton\n"
          ]
        }
      ]
    },
    {
      "cell_type": "code",
      "metadata": {
        "colab": {
          "base_uri": "https://localhost:8080/"
        },
        "id": "YnHqnXM_DbB1",
        "outputId": "9498d024-4e71-4a72-9376-4caeadde0e9d"
      },
      "source": [
        "'''\n",
        "ini adalah komentar panjang\n",
        "yang bisa dijakdikan sebagai penjelasa\n",
        "ayo semangat pasti bisa\n",
        "belajar phyton menyenangkan\n",
        "'''\n",
        "print(\"belajar Python menyenangkan\")"
      ],
      "execution_count": 8,
      "outputs": [
        {
          "output_type": "stream",
          "name": "stdout",
          "text": [
            "belajar Python menyenangkan\n"
          ]
        }
      ]
    },
    {
      "cell_type": "markdown",
      "metadata": {
        "id": "jsRLZqv86NC_"
      },
      "source": [
        "Untuk Tugas 2 seperti ini kah?"
      ]
    }
  ]
}