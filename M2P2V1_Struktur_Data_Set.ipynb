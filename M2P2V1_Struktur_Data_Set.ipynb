{
  "nbformat": 4,
  "nbformat_minor": 0,
  "metadata": {
    "colab": {
      "name": "M2P2V1_Struktur_Data_Set.ipynb",
      "provenance": [],
      "authorship_tag": "ABX9TyMQI5XfrpTADmwuZ4i4SFsC",
      "include_colab_link": true
    },
    "kernelspec": {
      "name": "python3",
      "display_name": "Python 3"
    },
    "language_info": {
      "name": "python"
    }
  },
  "cells": [
    {
      "cell_type": "markdown",
      "metadata": {
        "id": "view-in-github",
        "colab_type": "text"
      },
      "source": [
        "<a href=\"https://colab.research.google.com/github/Sutriadik/Pejuang-Data_Science/blob/main/M2P2V1_Struktur_Data_Set.ipynb\" target=\"_parent\"><img src=\"https://colab.research.google.com/assets/colab-badge.svg\" alt=\"Open In Colab\"/></a>"
      ]
    },
    {
      "cell_type": "markdown",
      "metadata": {
        "id": "_5J5xpyH0u9Q"
      },
      "source": [
        "### Set"
      ]
    },
    {
      "cell_type": "markdown",
      "metadata": {
        "id": "acCc_rXJ0x3N"
      },
      "source": [
        "Set adalah kumpulan item bersifat unik dan tanpa urutan (unordered collection). Didefinisikan dengan kurawal dam elemennya dipisahkan dengan koma. Pada set kita dapat melakukan union dan intersection,sekaligus otomatis melakukan penghapusan data duplikat"
      ]
    },
    {
      "cell_type": "code",
      "metadata": {
        "colab": {
          "base_uri": "https://localhost:8080/"
        },
        "id": "eKDQqI7j1cQj",
        "outputId": "412723c6-dd82-4c13-dd23-2798a13334f0"
      },
      "source": [
        "#Contoh Set\n",
        "S1 = {1, \"dua\", True, 2+3j}\n",
        "\n",
        "print(type(S1))"
      ],
      "execution_count": 1,
      "outputs": [
        {
          "output_type": "stream",
          "name": "stdout",
          "text": [
            "<class 'set'>\n"
          ]
        }
      ]
    },
    {
      "cell_type": "code",
      "metadata": {
        "colab": {
          "base_uri": "https://localhost:8080/",
          "height": 200
        },
        "id": "W7r5TVL11siG",
        "outputId": "e5b52ba0-ec5b-45e4-860a-d00fd6c43dbe"
      },
      "source": [
        "#Sifat-Sifat Set\n",
        "\n",
        "#Tidak terutut/Unordered\n",
        "print(\"memanggil set S1 dengan indeks urutan :\" ,S1[0:3])"
      ],
      "execution_count": 2,
      "outputs": [
        {
          "output_type": "error",
          "ename": "TypeError",
          "evalue": "ignored",
          "traceback": [
            "\u001b[0;31m---------------------------------------------------------------------------\u001b[0m",
            "\u001b[0;31mTypeError\u001b[0m                                 Traceback (most recent call last)",
            "\u001b[0;32m<ipython-input-2-d40d2c0e397b>\u001b[0m in \u001b[0;36m<module>\u001b[0;34m()\u001b[0m\n\u001b[1;32m      2\u001b[0m \u001b[0;34m\u001b[0m\u001b[0m\n\u001b[1;32m      3\u001b[0m \u001b[0;31m#Tidak terutut/Unordered\u001b[0m\u001b[0;34m\u001b[0m\u001b[0;34m\u001b[0m\u001b[0;34m\u001b[0m\u001b[0m\n\u001b[0;32m----> 4\u001b[0;31m \u001b[0mprint\u001b[0m\u001b[0;34m(\u001b[0m\u001b[0;34m\"memanggil set S1 dengan indeks urutan :\"\u001b[0m \u001b[0;34m,\u001b[0m\u001b[0mS1\u001b[0m\u001b[0;34m[\u001b[0m\u001b[0;36m0\u001b[0m\u001b[0;34m:\u001b[0m\u001b[0;36m3\u001b[0m\u001b[0;34m]\u001b[0m\u001b[0;34m)\u001b[0m\u001b[0;34m\u001b[0m\u001b[0;34m\u001b[0m\u001b[0m\n\u001b[0m",
            "\u001b[0;31mTypeError\u001b[0m: 'set' object is not subscriptable"
          ]
        }
      ]
    },
    {
      "cell_type": "code",
      "metadata": {
        "colab": {
          "base_uri": "https://localhost:8080/",
          "height": 200
        },
        "id": "vb6OaH-d19y-",
        "outputId": "768ade21-ca45-4554-cf39-46287b00e929"
      },
      "source": [
        "#tidak bisa diganti/Immutable\n",
        "S1[1] = 2\n",
        "print(\"memanggil S1 setelah diganti:\", S1)"
      ],
      "execution_count": 3,
      "outputs": [
        {
          "output_type": "error",
          "ename": "TypeError",
          "evalue": "ignored",
          "traceback": [
            "\u001b[0;31m---------------------------------------------------------------------------\u001b[0m",
            "\u001b[0;31mTypeError\u001b[0m                                 Traceback (most recent call last)",
            "\u001b[0;32m<ipython-input-3-fea7e8b52e7c>\u001b[0m in \u001b[0;36m<module>\u001b[0;34m()\u001b[0m\n\u001b[1;32m      1\u001b[0m \u001b[0;31m#tidak bisa diganti/Immutable\u001b[0m\u001b[0;34m\u001b[0m\u001b[0;34m\u001b[0m\u001b[0;34m\u001b[0m\u001b[0m\n\u001b[0;32m----> 2\u001b[0;31m \u001b[0mS1\u001b[0m\u001b[0;34m[\u001b[0m\u001b[0;36m1\u001b[0m\u001b[0;34m]\u001b[0m \u001b[0;34m=\u001b[0m \u001b[0;36m2\u001b[0m\u001b[0;34m\u001b[0m\u001b[0;34m\u001b[0m\u001b[0m\n\u001b[0m\u001b[1;32m      3\u001b[0m \u001b[0mprint\u001b[0m\u001b[0;34m(\u001b[0m\u001b[0;34m\"memanggil S1 setelah diganti:\"\u001b[0m\u001b[0;34m,\u001b[0m \u001b[0mS1\u001b[0m\u001b[0;34m)\u001b[0m\u001b[0;34m\u001b[0m\u001b[0;34m\u001b[0m\u001b[0m\n",
            "\u001b[0;31mTypeError\u001b[0m: 'set' object does not support item assignment"
          ]
        }
      ]
    },
    {
      "cell_type": "code",
      "metadata": {
        "colab": {
          "base_uri": "https://localhost:8080/",
          "height": 200
        },
        "id": "eBJxZLUX2Jd-",
        "outputId": "4ba4b4bd-edc5-448c-f125-0e2f105a4535"
      },
      "source": [
        "S1 = {1, \"dua\", True, 2+3j}\n",
        "\n",
        "#Dapat di Indeks/slicing\n",
        "print(\"Slicing Set S1: \",S1[3])"
      ],
      "execution_count": 4,
      "outputs": [
        {
          "output_type": "error",
          "ename": "TypeError",
          "evalue": "ignored",
          "traceback": [
            "\u001b[0;31m---------------------------------------------------------------------------\u001b[0m",
            "\u001b[0;31mTypeError\u001b[0m                                 Traceback (most recent call last)",
            "\u001b[0;32m<ipython-input-4-dcbc60f67e4e>\u001b[0m in \u001b[0;36m<module>\u001b[0;34m()\u001b[0m\n\u001b[1;32m      2\u001b[0m \u001b[0;34m\u001b[0m\u001b[0m\n\u001b[1;32m      3\u001b[0m \u001b[0;31m#Dapat di Indeks/slicing\u001b[0m\u001b[0;34m\u001b[0m\u001b[0;34m\u001b[0m\u001b[0;34m\u001b[0m\u001b[0m\n\u001b[0;32m----> 4\u001b[0;31m \u001b[0mprint\u001b[0m\u001b[0;34m(\u001b[0m\u001b[0;34m\"Slicing Set S1: \"\u001b[0m\u001b[0;34m,\u001b[0m\u001b[0mS1\u001b[0m\u001b[0;34m[\u001b[0m\u001b[0;36m3\u001b[0m\u001b[0;34m]\u001b[0m\u001b[0;34m)\u001b[0m\u001b[0;34m\u001b[0m\u001b[0;34m\u001b[0m\u001b[0m\n\u001b[0m",
            "\u001b[0;31mTypeError\u001b[0m: 'set' object is not subscriptable"
          ]
        }
      ]
    },
    {
      "cell_type": "code",
      "metadata": {
        "colab": {
          "base_uri": "https://localhost:8080/"
        },
        "id": "4wFh7t902fOm",
        "outputId": "e1403eb8-235b-45f7-b2b3-68c89d83ea51"
      },
      "source": [
        "# Dapat diijinkan DUplikasi\n",
        "S1 = {1, \"dua\", True,True, 2+3j, 2+3j}  #Boolean tidak terbaca atau dianggap tidak ada\n",
        "print(\"Duplikasi pada set S1:\", S1)"
      ],
      "execution_count": 10,
      "outputs": [
        {
          "output_type": "stream",
          "name": "stdout",
          "text": [
            "Duplikasi pada set S1: {1, 'dua', (2+3j)}\n"
          ]
        }
      ]
    },
    {
      "cell_type": "markdown",
      "metadata": {
        "id": "Hmjh_zRU3kvo"
      },
      "source": [
        "## Latihan"
      ]
    },
    {
      "cell_type": "code",
      "metadata": {
        "colab": {
          "base_uri": "https://localhost:8080/"
        },
        "id": "R9u4bI4f3mof",
        "outputId": "ef473b11-cf2f-436b-8c0e-5ad44df9d23d"
      },
      "source": [
        "#Buatlah struktur data set mu sendiri\n",
        "\n",
        "A ={1, 2, 3, 4 ,5 }\n",
        "B ={\"Bandung\", \"Jakarta\", \"Bogor\", \"Tangerang\"}\n",
        "\n",
        "print(\"tipe Data A\",type(A))\n",
        "print(\"tipe Data B\",type(B))\n",
        "print('-'*20)\n",
        "\n",
        "#Dapat diijinkan duplikasi\n",
        "A = {1, 2, 3, 4 ,5, 7,8,9,10}\n",
        "print(\"Duplikasi pada set A:\", A)\n",
        "\n",
        "B ={\"Bandung\", \"Bandung\", \"Jakarta\", \"Bogor\", \"Tangerang\",\"Bekasi\",\"Yogyakarta\", \"Cirebon\"}\n",
        "print(\"Duplikasi pada set B:\", B)\n"
      ],
      "execution_count": 26,
      "outputs": [
        {
          "output_type": "stream",
          "name": "stdout",
          "text": [
            "tipe Data A <class 'set'>\n",
            "tipe Data B <class 'set'>\n",
            "--------------------\n",
            "Duplikasi pada set A: {1, 2, 3, 4, 5, 7, 8, 9, 10}\n",
            "Duplikasi pada set B: {'Bekasi', 'Yogyakarta', 'Jakarta', 'Bogor', 'Cirebon', 'Bandung', 'Tangerang'}\n"
          ]
        }
      ]
    }
  ]
}