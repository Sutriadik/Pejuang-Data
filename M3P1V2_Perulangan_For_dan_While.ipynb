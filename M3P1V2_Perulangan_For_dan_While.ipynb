{
  "nbformat": 4,
  "nbformat_minor": 0,
  "metadata": {
    "colab": {
      "name": "M3P1V2_Perulangan_For_dan_While.ipynb",
      "provenance": [],
      "authorship_tag": "ABX9TyNKzzncl4vfwYUv1MnSBDHR",
      "include_colab_link": true
    },
    "kernelspec": {
      "name": "python3",
      "display_name": "Python 3"
    },
    "language_info": {
      "name": "python"
    }
  },
  "cells": [
    {
      "cell_type": "markdown",
      "metadata": {
        "id": "view-in-github",
        "colab_type": "text"
      },
      "source": [
        "<a href=\"https://colab.research.google.com/github/Sutriadik/Pejuang-Data_Science/blob/main/M3P1V2_Perulangan_For_dan_While.ipynb\" target=\"_parent\"><img src=\"https://colab.research.google.com/assets/colab-badge.svg\" alt=\"Open In Colab\"/></a>"
      ]
    },
    {
      "cell_type": "markdown",
      "metadata": {
        "id": "WJO1noOJ4xds"
      },
      "source": [
        "# Looping/Perulangan"
      ]
    },
    {
      "cell_type": "markdown",
      "metadata": {
        "id": "L60KilIB5Exn"
      },
      "source": [
        "Phyton menyediakan dua statement untuk melakukan proses perulangan yaitu for dan while. DIanatara kedua statement ini secara umum for lebih banyak digunakan daripada while"
      ]
    },
    {
      "cell_type": "markdown",
      "metadata": {
        "id": "QHSlclBB5SK7"
      },
      "source": [
        "# For Loop"
      ]
    },
    {
      "cell_type": "markdown",
      "metadata": {
        "id": "wM7c4Pj95UBK"
      },
      "source": [
        "Perulangan **for** digunakan untuk melakukan iterasi dalam **sequence** seperti list, tuple, string, dan array ayau objek yang dapat di iterasi lainnya.\n",
        "\n",
        "For loop syntax"
      ]
    },
    {
      "cell_type": "code",
      "metadata": {
        "colab": {
          "base_uri": "https://localhost:8080/"
        },
        "id": "I4NlcOAO6RwL",
        "outputId": "81fa9973-d1ae-4554-96a1-723e7d4466db"
      },
      "source": [
        "# program untuk menghitung jumlah semua angka dalam sebuah list\n",
        "L1 =[2,4,5,7,9]\n",
        "jumlah = 0\n",
        "\n",
        "# iterasi dalam list\n",
        "for i in L1:\n",
        "  jumlah = jumlah + i\n",
        "\n",
        "print(jumlah)"
      ],
      "execution_count": null,
      "outputs": [
        {
          "output_type": "stream",
          "name": "stdout",
          "text": [
            "27\n"
          ]
        }
      ]
    },
    {
      "cell_type": "markdown",
      "metadata": {
        "id": "XnihzceU6o_q"
      },
      "source": [
        "# The Range() FUnction"
      ]
    },
    {
      "cell_type": "code",
      "metadata": {
        "colab": {
          "base_uri": "https://localhost:8080/"
        },
        "id": "ozDR72Oq6tYy",
        "outputId": "16f76917-9cf6-4a23-ace3-e2d1ee47053a"
      },
      "source": [
        "# program untuk melakukan iterasi di dalam list melalui sebuah indeks\n",
        "minuman = [\"teh\", \"boba\", \"kopi\", \"susu\"]\n",
        "p = len(minuman)\n",
        "\n",
        "# iterasi di dalam list melalui indeks\n",
        "for i in range (p):\n",
        "  print(minuman[i])"
      ],
      "execution_count": null,
      "outputs": [
        {
          "output_type": "stream",
          "name": "stdout",
          "text": [
            "teh\n",
            "boba\n",
            "kopi\n",
            "susu\n"
          ]
        }
      ]
    },
    {
      "cell_type": "markdown",
      "metadata": {
        "id": "l98cw5yw7Hvc"
      },
      "source": [
        "# For loop with else"
      ]
    },
    {
      "cell_type": "code",
      "metadata": {
        "id": "RLnvp7Q37KKT"
      },
      "source": [
        "# Contoh for loop menggunakan else\n",
        "for i in range(p):\n",
        "  print(minuman[i])\n",
        "else:\n",
        "  print(\"elemen sudah habis\")"
      ],
      "execution_count": null,
      "outputs": []
    },
    {
      "cell_type": "markdown",
      "metadata": {
        "id": "mdnG7vye7ZGT"
      },
      "source": [
        "# Latihan 1\n",
        "\n",
        "diberikan list_tagihan. kamu diminta untuk menghitung jumlah seluruh tagihan! Gunakan looping for ntuk menyelesaikan tugas ini!\n",
        "simpan hasilnya pada variabel total_tagihan\n",
        "\n",
        "list_tagihan = [50000,75000,-150000,125000,300000,-50000,200000]"
      ]
    },
    {
      "cell_type": "code",
      "metadata": {
        "colab": {
          "base_uri": "https://localhost:8080/"
        },
        "id": "gEJuHtbu8DIl",
        "outputId": "5e86b70b-dd38-4afb-aab3-bae0fad02dc6"
      },
      "source": [
        "# Tuliskan code\n",
        "\n",
        "list_tagihan = [50000,75000,-150000,125000,300000,-50000,200000]\n",
        "\n",
        "total_tagihan = 0\n",
        "\n",
        "# iterasi dalam list\n",
        "for i in list_tagihan:\n",
        "  total_tagihan = total_tagihan + i\n",
        "\n",
        "print(\"Total tagihan yang harus dibayar:\",total_tagihan)"
      ],
      "execution_count": null,
      "outputs": [
        {
          "output_type": "stream",
          "name": "stdout",
          "text": [
            "Total tagihan yang harus dibayar: 550000\n"
          ]
        }
      ]
    },
    {
      "cell_type": "markdown",
      "metadata": {
        "id": "1_79otfI8I0j"
      },
      "source": [
        "# While Loop"
      ]
    },
    {
      "cell_type": "markdown",
      "metadata": {
        "id": "YsuWzAQr8Lu7"
      },
      "source": [
        "WHile loop pada Phyton digunakan untuk melakukan iterasi pada blok kode selama nilai dari teset expression adalah true.\n",
        "Syntax of while loop pada phyton\n",
        "\n",
        "    while Test_expression:\n",
        "\n",
        "          body of while"
      ]
    },
    {
      "cell_type": "code",
      "metadata": {
        "colab": {
          "base_uri": "https://localhost:8080/"
        },
        "id": "-PQCxDLm8syx",
        "outputId": "397b4844-804c-411a-8ed0-7ce35c57826c"
      },
      "source": [
        "jum = 0\n",
        "i = 1\n",
        "n = 10\n",
        "while i <= n:\n",
        "  jum = jum + i\n",
        "  i = i+1\n",
        "else:\n",
        "  print(jum) #dieksekusi diluar looping"
      ],
      "execution_count": null,
      "outputs": [
        {
          "output_type": "stream",
          "name": "stdout",
          "text": [
            "55\n"
          ]
        }
      ]
    },
    {
      "cell_type": "markdown",
      "metadata": {
        "id": "Dd2eXDp09N1L"
      },
      "source": [
        "# Latihan 2"
      ]
    },
    {
      "cell_type": "markdown",
      "metadata": {
        "id": "JZWYd18L9RhM"
      },
      "source": [
        "Diberikan list tagihan hitunglah total tagihan menggunakan while loop.\n",
        "tagihan = [50000,75000,300000,200000]"
      ]
    },
    {
      "cell_type": "code",
      "metadata": {
        "colab": {
          "base_uri": "https://localhost:8080/",
          "height": 286
        },
        "id": "rKcWMIIO9gjj",
        "outputId": "b6036f10-bc80-4b22-dbf4-5aad3ffc60de"
      },
      "source": [
        "# Code Program\n",
        "\n",
        "a = [50000,75000,300000,200000]\n",
        "\n",
        "n = len(a)\n",
        "i = 0\n",
        "\n",
        "z = 0\n",
        "while i <= n:\n",
        "    i = i+1\n",
        "    a[i] = a[i] + a[i-1] \n",
        "    z  = a[i]\n",
        "    print(a[i])\n",
        "\n",
        "\n"
      ],
      "execution_count": 32,
      "outputs": [
        {
          "output_type": "stream",
          "name": "stdout",
          "text": [
            "125000\n",
            "425000\n",
            "625000\n"
          ]
        },
        {
          "output_type": "error",
          "ename": "IndexError",
          "evalue": "ignored",
          "traceback": [
            "\u001b[0;31m---------------------------------------------------------------------------\u001b[0m",
            "\u001b[0;31mIndexError\u001b[0m                                Traceback (most recent call last)",
            "\u001b[0;32m<ipython-input-32-9837c4c5e1f2>\u001b[0m in \u001b[0;36m<module>\u001b[0;34m()\u001b[0m\n\u001b[1;32m      9\u001b[0m \u001b[0;32mwhile\u001b[0m \u001b[0mi\u001b[0m \u001b[0;34m<=\u001b[0m \u001b[0mn\u001b[0m\u001b[0;34m:\u001b[0m\u001b[0;34m\u001b[0m\u001b[0;34m\u001b[0m\u001b[0m\n\u001b[1;32m     10\u001b[0m     \u001b[0mi\u001b[0m \u001b[0;34m=\u001b[0m \u001b[0mi\u001b[0m\u001b[0;34m+\u001b[0m\u001b[0;36m1\u001b[0m\u001b[0;34m\u001b[0m\u001b[0;34m\u001b[0m\u001b[0m\n\u001b[0;32m---> 11\u001b[0;31m     \u001b[0ma\u001b[0m\u001b[0;34m[\u001b[0m\u001b[0mi\u001b[0m\u001b[0;34m]\u001b[0m \u001b[0;34m=\u001b[0m \u001b[0ma\u001b[0m\u001b[0;34m[\u001b[0m\u001b[0mi\u001b[0m\u001b[0;34m]\u001b[0m \u001b[0;34m+\u001b[0m \u001b[0ma\u001b[0m\u001b[0;34m[\u001b[0m\u001b[0mi\u001b[0m\u001b[0;34m-\u001b[0m\u001b[0;36m1\u001b[0m\u001b[0;34m]\u001b[0m\u001b[0;34m\u001b[0m\u001b[0;34m\u001b[0m\u001b[0m\n\u001b[0m\u001b[1;32m     12\u001b[0m     \u001b[0mz\u001b[0m  \u001b[0;34m=\u001b[0m \u001b[0ma\u001b[0m\u001b[0;34m[\u001b[0m\u001b[0mi\u001b[0m\u001b[0;34m]\u001b[0m\u001b[0;34m\u001b[0m\u001b[0;34m\u001b[0m\u001b[0m\n\u001b[1;32m     13\u001b[0m     \u001b[0mprint\u001b[0m\u001b[0;34m(\u001b[0m\u001b[0ma\u001b[0m\u001b[0;34m[\u001b[0m\u001b[0mi\u001b[0m\u001b[0;34m]\u001b[0m\u001b[0;34m)\u001b[0m\u001b[0;34m\u001b[0m\u001b[0;34m\u001b[0m\u001b[0m\n",
            "\u001b[0;31mIndexError\u001b[0m: list index out of range"
          ]
        }
      ]
    }
  ]
}