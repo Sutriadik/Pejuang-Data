{
  "nbformat": 4,
  "nbformat_minor": 0,
  "metadata": {
    "colab": {
      "name": "M2P2V4_Struktur_Data_String.ipynb",
      "provenance": [],
      "authorship_tag": "ABX9TyNkApEVQ4E0H69/iwWzw9TP",
      "include_colab_link": true
    },
    "kernelspec": {
      "name": "python3",
      "display_name": "Python 3"
    },
    "language_info": {
      "name": "python"
    }
  },
  "cells": [
    {
      "cell_type": "markdown",
      "metadata": {
        "id": "view-in-github",
        "colab_type": "text"
      },
      "source": [
        "<a href=\"https://colab.research.google.com/github/Sutriadik/Pejuang-Data_Science/blob/main/M2P2V4_Struktur_Data_String.ipynb\" target=\"_parent\"><img src=\"https://colab.research.google.com/assets/colab-badge.svg\" alt=\"Open In Colab\"/></a>"
      ]
    },
    {
      "cell_type": "markdown",
      "metadata": {
        "id": "ieoHQqgTtFVQ"
      },
      "source": [
        "## String"
      ]
    },
    {
      "cell_type": "markdown",
      "metadata": {
        "id": "neZDjXUhtIUv"
      },
      "source": [
        "String di deklarasikan dengan diapit oleh tanda petik."
      ]
    },
    {
      "cell_type": "code",
      "metadata": {
        "colab": {
          "base_uri": "https://localhost:8080/"
        },
        "id": "pIClB8wGtPz3",
        "outputId": "023300b8-b398-48c4-9b88-5ae064603065"
      },
      "source": [
        "#Menampilkan seting dengan fungsi print\n",
        "print(\"Hello World!\")"
      ],
      "execution_count": 12,
      "outputs": [
        {
          "output_type": "stream",
          "name": "stdout",
          "text": [
            "Hello World!\n"
          ]
        }
      ]
    },
    {
      "cell_type": "code",
      "metadata": {
        "colab": {
          "base_uri": "https://localhost:8080/"
        },
        "id": "q_SZhuBhtWDA",
        "outputId": "68627ced-9496-4b17-81d9-c2ef671b2b00"
      },
      "source": [
        "#Membuat variabel bertipe string\n",
        "A =\"Belajar struktur Data string\"\n",
        "print(A)"
      ],
      "execution_count": 13,
      "outputs": [
        {
          "output_type": "stream",
          "name": "stdout",
          "text": [
            "Belajar struktur Data string\n"
          ]
        }
      ]
    },
    {
      "cell_type": "code",
      "metadata": {
        "colab": {
          "base_uri": "https://localhost:8080/"
        },
        "id": "LZO9ON9ZtkjA",
        "outputId": "9608e941-97c7-4afe-d65c-7adffd1498b0"
      },
      "source": [
        "#membuat variabel string multi-line dengan 3 tanda petik\n",
        "B = \"\"\"Belajar Phyton\n",
        "Pejuang Data 3.0\n",
        "PSDS\n",
        "sting\"\"\"\n",
        "print(B)"
      ],
      "execution_count": 14,
      "outputs": [
        {
          "output_type": "stream",
          "name": "stdout",
          "text": [
            "Belajar Phyton\n",
            "Pejuang Data 3.0\n",
            "PSDS\n",
            "sting\n"
          ]
        }
      ]
    },
    {
      "cell_type": "code",
      "metadata": {
        "colab": {
          "base_uri": "https://localhost:8080/"
        },
        "id": "9Di7v-K1t0N4",
        "outputId": "eb2f7273-c5c1-4eb0-c6e8-e7111fe88fc8"
      },
      "source": [
        "#Menampilkan karakter tertentu dalam string\n",
        "print(A[2])\n",
        "print(A[5])\n"
      ],
      "execution_count": 15,
      "outputs": [
        {
          "output_type": "stream",
          "name": "stdout",
          "text": [
            "l\n",
            "a\n"
          ]
        }
      ]
    },
    {
      "cell_type": "code",
      "metadata": {
        "colab": {
          "base_uri": "https://localhost:8080/"
        },
        "id": "JvQtY1hnuVZQ",
        "outputId": "d2520c35-0ce9-4297-b6d2-9a557f706a12"
      },
      "source": [
        "#Slicing pada String\n",
        "A = \"Belajar Struktur data string\"\n",
        "print(A[:5])\n",
        "print(A[3:])\n",
        "print(A[-5:])\n",
        "print(A[4:9])"
      ],
      "execution_count": 18,
      "outputs": [
        {
          "output_type": "stream",
          "name": "stdout",
          "text": [
            "Belaj\n",
            "ajar Struktur data string\n",
            "tring\n",
            "jar S\n"
          ]
        }
      ]
    },
    {
      "cell_type": "markdown",
      "metadata": {
        "id": "uIePLnRqu9OZ"
      },
      "source": [
        "# Latihan 1"
      ]
    },
    {
      "cell_type": "code",
      "metadata": {
        "colab": {
          "base_uri": "https://localhost:8080/"
        },
        "id": "0dGd3CjmvABw",
        "outputId": "b7418a10-0926-4e1a-9c87-d2a18353c518"
      },
      "source": [
        "#Buatlah variable string lalu lakukan slicing dengan menghilangkan karakter pertama dan terakhir\n",
        "\n",
        "print (\"Nama Saya Sutriadi Kurniawan\")\n",
        "X = \"Jakarta adalah Ibukota Negara Indonesia\"\n",
        "print(X)\n",
        "\n",
        "print('-'*20)\n",
        "#Menampilkan karakter tertentu dalam string\n",
        "print(\"karakter ketiga dari X :\", X[2])\n",
        "print(\"karakter keenam dari X :\", X[5])\n",
        "\n",
        "print('-'*20)\n",
        "\n",
        "#Slicing dengan menghilangkan karakter pertama dan terakhir\n",
        "print(\"Slicing dengan menghilangkan karakter pertama dan terakhir\")\n",
        "print(X[1:-1])\n"
      ],
      "execution_count": 26,
      "outputs": [
        {
          "output_type": "stream",
          "name": "stdout",
          "text": [
            "Nama Saya Sutriadi Kurniawan\n",
            "Jakarta adalah Ibukota Negara Indonesia\n",
            "--------------------\n",
            "karakter ketiga dari X : k\n",
            "karakter keenam dari X : t\n",
            "--------------------\n",
            "Slicing dengan menghilangkan karakter pertama dan terakhir\n",
            "akarta adalah Ibukota Negara Indonesi\n"
          ]
        }
      ]
    },
    {
      "cell_type": "markdown",
      "metadata": {
        "id": "ven_vpg-wv8p"
      },
      "source": [
        "Memodifikasi String"
      ]
    },
    {
      "cell_type": "code",
      "metadata": {
        "colab": {
          "base_uri": "https://localhost:8080/",
          "height": 34
        },
        "id": "6D29Z6lBwx0I",
        "outputId": "a50efb2b-9776-4d1f-8040-d9daaf40582a"
      },
      "source": [
        "#upper()\n",
        "A.upper()"
      ],
      "execution_count": 27,
      "outputs": [
        {
          "output_type": "execute_result",
          "data": {
            "application/vnd.google.colaboratory.intrinsic+json": {
              "type": "string"
            },
            "text/plain": [
              "'BELAJAR STRUKTUR DATA STRING'"
            ]
          },
          "metadata": {},
          "execution_count": 27
        }
      ]
    },
    {
      "cell_type": "code",
      "metadata": {
        "colab": {
          "base_uri": "https://localhost:8080/",
          "height": 34
        },
        "id": "xEc_juL9w5-3",
        "outputId": "97f1b95f-f62d-4879-c52d-f5d3df7e06ee"
      },
      "source": [
        "#lower()\n",
        "A.lower()"
      ],
      "execution_count": 28,
      "outputs": [
        {
          "output_type": "execute_result",
          "data": {
            "application/vnd.google.colaboratory.intrinsic+json": {
              "type": "string"
            },
            "text/plain": [
              "'belajar struktur data string'"
            ]
          },
          "metadata": {},
          "execution_count": 28
        }
      ]
    },
    {
      "cell_type": "code",
      "metadata": {
        "colab": {
          "base_uri": "https://localhost:8080/",
          "height": 34
        },
        "id": "jauBGtfQw_rg",
        "outputId": "627ca02a-6739-4118-a0f0-6de179750213"
      },
      "source": [
        "#strip()\n",
        "A.strip()"
      ],
      "execution_count": 29,
      "outputs": [
        {
          "output_type": "execute_result",
          "data": {
            "application/vnd.google.colaboratory.intrinsic+json": {
              "type": "string"
            },
            "text/plain": [
              "'Belajar Struktur data string'"
            ]
          },
          "metadata": {},
          "execution_count": 29
        }
      ]
    },
    {
      "cell_type": "code",
      "metadata": {
        "colab": {
          "base_uri": "https://localhost:8080/",
          "height": 34
        },
        "id": "G8gUyB-6xHo4",
        "outputId": "3c523037-4cc9-4191-ff18-2f6596618660"
      },
      "source": [
        "#replace\n",
        "A.replace('l','d')"
      ],
      "execution_count": 30,
      "outputs": [
        {
          "output_type": "execute_result",
          "data": {
            "application/vnd.google.colaboratory.intrinsic+json": {
              "type": "string"
            },
            "text/plain": [
              "'Bedajar Struktur data string'"
            ]
          },
          "metadata": {},
          "execution_count": 30
        }
      ]
    },
    {
      "cell_type": "code",
      "metadata": {
        "colab": {
          "base_uri": "https://localhost:8080/"
        },
        "id": "OMY-RxL2xNq4",
        "outputId": "90713c30-d7f0-4b66-d7ce-19389965b21b"
      },
      "source": [
        "#split()\n",
        "A.split()"
      ],
      "execution_count": 32,
      "outputs": [
        {
          "output_type": "execute_result",
          "data": {
            "text/plain": [
              "['Belajar', 'Struktur', 'data', 'string']"
            ]
          },
          "metadata": {},
          "execution_count": 32
        }
      ]
    },
    {
      "cell_type": "markdown",
      "metadata": {
        "id": "XQq5gtCfxYQJ"
      },
      "source": [
        "# Menggabungkan String"
      ]
    },
    {
      "cell_type": "code",
      "metadata": {
        "colab": {
          "base_uri": "https://localhost:8080/",
          "height": 34
        },
        "id": "TbCtr5IXxdK4",
        "outputId": "a3eadb10-9474-4beb-80f6-663b89fb0cf3"
      },
      "source": [
        "A = \"Belajar Struktur Data String\"\n",
        "B = \"Pejuang Data 3.0\"\n",
        "A + \" \" + B"
      ],
      "execution_count": 33,
      "outputs": [
        {
          "output_type": "execute_result",
          "data": {
            "application/vnd.google.colaboratory.intrinsic+json": {
              "type": "string"
            },
            "text/plain": [
              "'Belajar Struktur Data String Pejuang Data 3.0'"
            ]
          },
          "metadata": {},
          "execution_count": 33
        }
      ]
    },
    {
      "cell_type": "markdown",
      "metadata": {
        "id": "eEoJSdQaxx5T"
      },
      "source": [
        "# Latihan 2"
      ]
    },
    {
      "cell_type": "code",
      "metadata": {
        "colab": {
          "base_uri": "https://localhost:8080/"
        },
        "id": "I3pCbUzTxznB",
        "outputId": "ead95cb9-4675-49c9-c194-b591cf5e5262"
      },
      "source": [
        "# ganti semua huruf vokal menjadi \"i\" pada string yang telah kalian buat pada latihan 1\n",
        "X = \"Jakarta adalah Ibukota Negara Indonesia\"\n",
        "\n",
        "X = X.replace('a','i')\n",
        "X = X.replace('u','i')\n",
        "X = X.replace('e','i')\n",
        "X = X.replace('o','i')\n",
        "print(X)"
      ],
      "execution_count": 54,
      "outputs": [
        {
          "output_type": "stream",
          "name": "stdout",
          "text": [
            "Jikirti idilih Ibikiti Nigiri Indinisii\n"
          ]
        }
      ]
    }
  ]
}