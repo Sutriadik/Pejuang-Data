{
  "nbformat": 4,
  "nbformat_minor": 0,
  "metadata": {
    "colab": {
      "name": "M2P1V2_Struktur_Data_List.ipynb",
      "provenance": [],
      "collapsed_sections": [],
      "authorship_tag": "ABX9TyNaFWc/lrivIpNPXOPQLK8B",
      "include_colab_link": true
    },
    "kernelspec": {
      "name": "python3",
      "display_name": "Python 3"
    },
    "language_info": {
      "name": "python"
    }
  },
  "cells": [
    {
      "cell_type": "markdown",
      "metadata": {
        "id": "view-in-github",
        "colab_type": "text"
      },
      "source": [
        "<a href=\"https://colab.research.google.com/github/Sutriadik/Pejuang-Data_Science/blob/main/M2P1V2_Struktur_Data_List.ipynb\" target=\"_parent\"><img src=\"https://colab.research.google.com/assets/colab-badge.svg\" alt=\"Open In Colab\"/></a>"
      ]
    },
    {
      "cell_type": "markdown",
      "metadata": {
        "id": "6mU-7tKk2Cw_"
      },
      "source": [
        "# LIST"
      ]
    },
    {
      "cell_type": "markdown",
      "metadata": {
        "id": "vsQ5Ub2h2G89"
      },
      "source": [
        "List adalah jenis kumpulan data terurut (ordered sequence), dan merupakan salah satu variabel yang sering digunakan pada phyton. serupa,namun tak sama dengan array pada bahasa pemrograman lainnya. bedanya, elemen list pada Phton tidak harus memiliki tipe data yang sama. Mendeklarasikan List cukup mudah dengan kurung siku dan elemen yang dipisahkan dengan koma.\n",
        "\n",
        "Setiap data di dalamnya dapat diakses dengan indeks yang dimulai dari 0."
      ]
    },
    {
      "cell_type": "code",
      "metadata": {
        "colab": {
          "base_uri": "https://localhost:8080/"
        },
        "id": "YtAXGP0vLHKN",
        "outputId": "4d015d5f-de79-47d8-8f13-730ab567fbac"
      },
      "source": [
        "[1] #contoh list\n",
        "L1 = [1, 4, 2, 13]\n",
        "\n",
        "print(type(L1))\n",
        "type(L1)"
      ],
      "execution_count": null,
      "outputs": [
        {
          "output_type": "stream",
          "name": "stdout",
          "text": [
            "<class 'list'>\n"
          ]
        },
        {
          "output_type": "execute_result",
          "data": {
            "text/plain": [
              "list"
            ]
          },
          "metadata": {},
          "execution_count": 32
        }
      ]
    },
    {
      "cell_type": "code",
      "metadata": {
        "colab": {
          "base_uri": "https://localhost:8080/"
        },
        "id": "h8Yg6lKpLm4z",
        "outputId": "0bb8b3f7-6dc9-4f5e-9762-c79c48a6006d"
      },
      "source": [
        "[2] #contoh 2\n",
        "L2 = [\"a\", \"Phyton\", 3]\n",
        "L2\n"
      ],
      "execution_count": null,
      "outputs": [
        {
          "output_type": "execute_result",
          "data": {
            "text/plain": [
              "['a', 'Phyton', 3]"
            ]
          },
          "metadata": {},
          "execution_count": 5
        }
      ]
    },
    {
      "cell_type": "code",
      "metadata": {
        "colab": {
          "base_uri": "https://localhost:8080/"
        },
        "id": "T1h6qz3VMAEW",
        "outputId": "4c5e5a3a-8150-412a-82f1-755fe49a9d8a"
      },
      "source": [
        "[3] #contoh 3\n",
        "print(L1)\n",
        "print(L2)"
      ],
      "execution_count": null,
      "outputs": [
        {
          "output_type": "stream",
          "name": "stdout",
          "text": [
            "[1, 4, 2, 13]\n",
            "['a', 'Phyton', 3]\n"
          ]
        }
      ]
    },
    {
      "cell_type": "markdown",
      "metadata": {
        "id": "WThE-Kb6MKDf"
      },
      "source": [
        "Latihan 1"
      ]
    },
    {
      "cell_type": "code",
      "metadata": {
        "colab": {
          "base_uri": "https://localhost:8080/"
        },
        "id": "Wra9oQqxMNLt",
        "outputId": "99d3e93d-79ee-48bd-ef7a-a0ee06e892f8"
      },
      "source": [
        "#latihan Membuat List\n",
        "\n",
        "P1 = [2,4,6,8,10,12,14,16,18,20]\n",
        "print(type(P1))\n",
        "\n",
        "P2 = [\"xy\", \"P1 merupakan bilangan genap\", \"2-20\"]\n",
        "P2\n",
        "\n",
        "print(P1)\n",
        "print(P2)"
      ],
      "execution_count": null,
      "outputs": [
        {
          "output_type": "stream",
          "name": "stdout",
          "text": [
            "<class 'list'>\n",
            "[2, 4, 6, 8, 10, 12, 14, 16, 18, 20]\n",
            "['xy', 'P1 merupakan bilangan genap', '2-20']\n"
          ]
        }
      ]
    },
    {
      "cell_type": "markdown",
      "metadata": {
        "id": "eqbsKvUCNc7Y"
      },
      "source": [
        "Indeks di python (List,tuple) mulai dari 0"
      ]
    },
    {
      "cell_type": "code",
      "metadata": {
        "colab": {
          "base_uri": "https://localhost:8080/"
        },
        "id": "GcR9z97vNmnh",
        "outputId": "2e95b63e-f348-4829-a5d6-c1c54ca2784b"
      },
      "source": [
        "[5] #Sifat-Sifat List\n",
        "\n",
        "#Terurut/Ordered\n",
        "print (\"Memanggil list L1 dengan indeks urutan:\", L1[0:3])\n",
        "print('-'*20)\n",
        "\n",
        "#Bisa Diganti/Mutable\n",
        "L1[1] = 2\n",
        "print(\"List L1 setelah diganti elemennya:\",L1)\n",
        "print('-'*20)\n",
        "\n",
        "L1 =[1, \"dua\", True, 2+3j]\n",
        "\n",
        "#Dapat Diindeks/Slicing\n",
        "print(\"Slicing List L1:\",L1[3])\n",
        "print('-'*20)\n",
        "\n",
        "#Dapat diizinkan Duplikasi\n",
        "L1 = [1, \"dua\", True, 2 +3j, 3+3j]\n",
        "print (\"Duplikasi pada List L1 :\",L1)\n"
      ],
      "execution_count": null,
      "outputs": [
        {
          "output_type": "stream",
          "name": "stdout",
          "text": [
            "Memanggil list L1 dengan indeks urutan: [1, 'dua', True]\n",
            "--------------------\n",
            "List L1 setelah diganti elemennya: [1, 2, True, (2+3j), (2+3j)]\n",
            "--------------------\n",
            "Slicing List L1: (2+3j)\n",
            "--------------------\n",
            "Duplikasi pada List L1 : [1, 'dua', True, (2+3j), (3+3j)]\n"
          ]
        }
      ]
    },
    {
      "cell_type": "markdown",
      "metadata": {
        "id": "MCLxIwXQPKcU"
      },
      "source": [
        "Latihan 2"
      ]
    },
    {
      "cell_type": "code",
      "metadata": {
        "colab": {
          "base_uri": "https://localhost:8080/"
        },
        "id": "NGmquBeXPLvm",
        "outputId": "a1969af4-b9a8-4d29-c000-503a18bf062e"
      },
      "source": [
        "#Ganti element yang ada pada List yang telah dibuat\n",
        "P1 = [2,4,6,8,10,12,14,16,18,20]\n",
        "P2 = [\"xy\", \"P1 merupakan bilangan genap\", \"2-20\", 5+10j]\n",
        "#terurut/Ordered\n",
        "print (\"Memanggil list P1 dengan indeks urutan:\", P1[0:5])\n",
        "print (\"Memanggil list P1 dengan indeks urutan:\", P2[0:3])\n",
        "print('-'*20)\n",
        "\n",
        "#Bisa Diganti/Mutable\n",
        "P1[5] = 24\n",
        "P2[2] = \"makhluk\"\n",
        "print(\"List P1 setelah diganti elemennya:\",P1)\n",
        "print(\"List P1 setelah diganti elemennya:\",P2)\n",
        "print('-'*20)\n",
        "\n",
        "#Dapat Diindeks/Slicing\n",
        "print(\"Slicing List P1:\", P1[7])\n",
        "print(\"Slicing List P2 setelah diganti elemennya:\", P2[2])\n",
        "print(\"Slicing List P2:\", P2[1])\n",
        "print('-'*20)\n",
        "\n",
        "#Dapat diizinkan Duplikasi\n",
        "P3 = [2, \"dua\", True, 2 + 4j, 5+ 4j]\n",
        "print (\"Duplikasi pada List P3 :\",P3)\n",
        "\n",
        "\n"
      ],
      "execution_count": null,
      "outputs": [
        {
          "output_type": "stream",
          "name": "stdout",
          "text": [
            "Memanggil list P1 dengan indeks urutan: [2, 4, 6, 8, 10]\n",
            "Memanggil list P1 dengan indeks urutan: ['xy', 'P1 merupakan bilangan genap', '2-20']\n",
            "--------------------\n",
            "List P1 setelah diganti elemennya: [2, 4, 6, 8, 10, 24, 14, 16, 18, 20]\n",
            "List P1 setelah diganti elemennya: ['xy', 'P1 merupakan bilangan genap', 'makhluk', (5+10j)]\n",
            "--------------------\n",
            "Slicing List P1: 16\n",
            "Slicing List P2 setelah diganti elemennya: makhluk\n",
            "Slicing List P2: P1 merupakan bilangan genap\n",
            "--------------------\n",
            "Duplikasi pada List P3 : [2, 'dua', True, (2+4j), (5+4j)]\n"
          ]
        }
      ]
    }
  ]
}