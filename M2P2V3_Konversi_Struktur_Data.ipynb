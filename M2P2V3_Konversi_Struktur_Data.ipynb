{
  "nbformat": 4,
  "nbformat_minor": 0,
  "metadata": {
    "colab": {
      "name": "M2P2V3_Konversi_Struktur Data.ipynb",
      "provenance": [],
      "authorship_tag": "ABX9TyPZCSfW9jIHuQzwGFwcL89l",
      "include_colab_link": true
    },
    "kernelspec": {
      "name": "python3",
      "display_name": "Python 3"
    },
    "language_info": {
      "name": "python"
    }
  },
  "cells": [
    {
      "cell_type": "markdown",
      "metadata": {
        "id": "view-in-github",
        "colab_type": "text"
      },
      "source": [
        "<a href=\"https://colab.research.google.com/github/Sutriadik/Pejuang-Data_Science/blob/main/M2P2V3_Konversi_Struktur_Data.ipynb\" target=\"_parent\"><img src=\"https://colab.research.google.com/assets/colab-badge.svg\" alt=\"Open In Colab\"/></a>"
      ]
    },
    {
      "cell_type": "markdown",
      "metadata": {
        "id": "SDinbODMIzf9"
      },
      "source": [
        "## Konversi Struktur Data"
      ]
    },
    {
      "cell_type": "markdown",
      "metadata": {
        "id": "6jgiI8V-I3dC"
      },
      "source": [
        "Fungsi untuk mengubah/konversi struktur data:\n",
        "\n",
        "\n",
        "*   list() : untuk mengubah menjadi list  \n",
        "*   tuple(): untuk mengubah menjadi tuple\n",
        "*   set()  : untuk mengubah menjadi set\n",
        "*   dict() : untuk mengubah menjadi dictionary\n",
        "\n",
        "\n"
      ]
    },
    {
      "cell_type": "markdown",
      "metadata": {
        "id": "oSa0xC0EJdVL"
      },
      "source": [
        "## Mengkonversi Tipe Data list:"
      ]
    },
    {
      "cell_type": "code",
      "metadata": {
        "id": "Ltky7i3aWt9o"
      },
      "source": [
        "# Membuat 2 list\n",
        "L1 = [1,2,3,4]\n",
        "L2 = [5,6,7,8]"
      ],
      "execution_count": null,
      "outputs": []
    },
    {
      "cell_type": "code",
      "metadata": {
        "colab": {
          "base_uri": "https://localhost:8080/"
        },
        "id": "hzG1GxEQJloq",
        "outputId": "dd6b3ad3-d1ed-4492-e7d0-87c8c226075c"
      },
      "source": [
        "#Mengkonversi struktur data list\n",
        "k_tuple = tuple(L1)\n",
        "k_set = set(L2)\n",
        "k_dict = dict(zip(L1,L2))\n",
        "# Melihat data yang telah dikonversi\n",
        "print(k_tuple)\n",
        "print(k_set)\n",
        "print(k_dict)\n",
        "\n"
      ],
      "execution_count": null,
      "outputs": [
        {
          "output_type": "stream",
          "name": "stdout",
          "text": [
            "(1, 2, 3, 4)\n",
            "{8, 5, 6, 7}\n",
            "{1: 5, 2: 6, 3: 7, 4: 8}\n"
          ]
        }
      ]
    },
    {
      "cell_type": "markdown",
      "metadata": {
        "id": "5BB6C_E2YTyU"
      },
      "source": [
        "# Mengkonversi Tipe data tuple:"
      ]
    },
    {
      "cell_type": "code",
      "metadata": {
        "id": "s3g51syGYY6z"
      },
      "source": [
        "#Membuat dua tuple\n",
        "T1 = (1,2,3,4,5)\n",
        "T2 = (5,6,7,8)"
      ],
      "execution_count": null,
      "outputs": []
    },
    {
      "cell_type": "code",
      "metadata": {
        "colab": {
          "base_uri": "https://localhost:8080/"
        },
        "id": "O8OIchciZfrD",
        "outputId": "82c31595-5f98-4418-eedd-a30db65b9f15"
      },
      "source": [
        "# Mengkonversi struktur data tuple\n",
        "k_list = list(T1)\n",
        "k_set = set(T2)\n",
        "k_dict = dict(zip(T1,T2))\n",
        "#melihat data yang telah dikonversi\n",
        "print(k_list)\n",
        "print(k_set)\n",
        "print(k_dict)"
      ],
      "execution_count": null,
      "outputs": [
        {
          "output_type": "stream",
          "name": "stdout",
          "text": [
            "[1, 2, 3, 4, 5]\n",
            "{8, 5, 6, 7}\n",
            "{1: 5, 2: 6, 3: 7, 4: 8}\n"
          ]
        }
      ]
    },
    {
      "cell_type": "markdown",
      "metadata": {
        "id": "emW1IC_naxFu"
      },
      "source": [
        "# Mengkonversi Tipe data set:"
      ]
    },
    {
      "cell_type": "code",
      "metadata": {
        "id": "qL5S1Fv2a6Bs"
      },
      "source": [
        "#membuat dua set\n",
        "S1 = {1,2,3,4}\n",
        "S2 = {5,6,7,8}"
      ],
      "execution_count": null,
      "outputs": []
    },
    {
      "cell_type": "code",
      "metadata": {
        "colab": {
          "base_uri": "https://localhost:8080/"
        },
        "id": "3x7uUMcQbPrh",
        "outputId": "34b8ebd7-bea0-445b-a4e0-3d827f12cd92"
      },
      "source": [
        "#Mengkonversi struktur data set\n",
        "k_list = list(S1)\n",
        "k_tuple = tuple(S2)\n",
        "k_dict = dict(zip(S1,S2))\n",
        "#melihat data yang telah dikonversi\n",
        "print(k_list)\n",
        "print(k_tuple)\n",
        "print(k_dict)"
      ],
      "execution_count": null,
      "outputs": [
        {
          "output_type": "stream",
          "name": "stdout",
          "text": [
            "[1, 2, 3, 4]\n",
            "(8, 5, 6, 7)\n",
            "{1: 8, 2: 5, 3: 6, 4: 7}\n"
          ]
        }
      ]
    },
    {
      "cell_type": "markdown",
      "metadata": {
        "id": "sg3ZG4VwcHgb"
      },
      "source": [
        "# Mengkonversi Tipe data dictionary"
      ]
    },
    {
      "cell_type": "code",
      "metadata": {
        "id": "EhiQw5zZcOW2"
      },
      "source": [
        "#Membuat dictionary\n",
        "D = {\"nama\": \"Andi\", \"alamat\":\"Yogyakarta\", \"umur\" : 20}"
      ],
      "execution_count": null,
      "outputs": []
    },
    {
      "cell_type": "code",
      "metadata": {
        "colab": {
          "base_uri": "https://localhost:8080/"
        },
        "id": "UF3x0AFVcnOT",
        "outputId": "f05119fa-92d4-4f59-ef5d-1b64fcb2d911"
      },
      "source": [
        "#Mengkonversi Struktur data dictionary dari key dan value-nya\n",
        "k_list = list(D.keys())\n",
        "k_tuple = tuple(D.values())\n",
        "k_set = set(D.keys())\n",
        "#Melihat data yang telah dikonversi\n",
        "print(k_list)\n",
        "print(k_tuple)\n",
        "print(k_set)"
      ],
      "execution_count": null,
      "outputs": [
        {
          "output_type": "stream",
          "name": "stdout",
          "text": [
            "['nama', 'alamat', 'umur']\n",
            "('Andi', 'Yogyakarta', 20)\n",
            "{'alamat', 'nama', 'umur'}\n"
          ]
        }
      ]
    },
    {
      "cell_type": "markdown",
      "metadata": {
        "id": "jCl2DwAmdNnc"
      },
      "source": [
        "# Latihan"
      ]
    },
    {
      "cell_type": "code",
      "metadata": {
        "colab": {
          "base_uri": "https://localhost:8080/"
        },
        "id": "wnLGT4fHmhmt",
        "outputId": "eb91a0a9-4da6-4bca-e159-4ff7583b0841"
      },
      "source": [
        "#Lakukan konversi struktur data yang kalian buat pada notebook-notebook\n",
        "#sebelumnya menjadi list,tuple,set, dan dictionary\n",
        "\n",
        "#Konversi Tipe data list\n",
        "print(\"Konversi Tipe data list\")\n",
        "P1 = [2,4,6,8,10,12,14,16,18,20]\n",
        "P2 = [\"xy\", \"P1 merupakan bilangan genap\", \"2-20\", 5+10j]\n",
        "\n",
        "k_tuple = tuple(P1)\n",
        "k_set = set(P2)\n",
        "k_dict = dict(zip(P1,P2))\n",
        "# Menampilkan data yang telah dikonversi\n",
        "print(\"hasil konversi menjadi tuple: \",k_tuple)\n",
        "print(\"hasil konversi menjadi set:\", k_set)\n",
        "print(\"hasil konversi menjadi dictionary: \", k_dict)\n"
      ],
      "execution_count": 25,
      "outputs": [
        {
          "output_type": "stream",
          "name": "stdout",
          "text": [
            "Konversi Tipe data list\n",
            "hasil konversi menjadi tuple:  (2, 4, 6, 8, 10, 12, 14, 16, 18, 20)\n",
            "hasil konversi menjadi set: {'xy', '2-20', (5+10j), 'P1 merupakan bilangan genap'}\n",
            "hasil konversi menjadi dictionary:  {2: 'xy', 4: 'P1 merupakan bilangan genap', 6: '2-20', 8: (5+10j)}\n",
            "--------------------\n"
          ]
        }
      ]
    },
    {
      "cell_type": "code",
      "metadata": {
        "colab": {
          "base_uri": "https://localhost:8080/"
        },
        "id": "05xRysoGnwZi",
        "outputId": "4fac42be-8447-4f42-a870-c1c810f39651"
      },
      "source": [
        "#Konversi Tipe data Tuple\n",
        "print(\"Konversi Tipe data tuple\")\n",
        "s1 = (5,\"empat\",True,3+4j)\n",
        "s2 = (1, 3, 5, 7, 9)\n",
        "\n",
        "k_list = list(s1)\n",
        "k_set = set(s2)\n",
        "k_dict = dict(zip(s1,s2))\n",
        "# Menampilkan data yang telah dikonversi\n",
        "print(\"hasil konversi menjadi list: \",k_list)\n",
        "print(\"hasil konversi menjadi set: \", k_set)\n",
        "print(\"hasil konversi menjadi dictionary: \", k_dict)\n",
        "\n"
      ],
      "execution_count": 30,
      "outputs": [
        {
          "output_type": "stream",
          "name": "stdout",
          "text": [
            "Konversi Tipe data tuple\n",
            "hasil konversi menjadi list:  [5, 'empat', True, (3+4j)]\n",
            "hasil konversi menjadi set:  {1, 3, 5, 7, 9}\n",
            "hasil konversi menjadi dictionary:  {5: 1, 'empat': 3, True: 5, (3+4j): 7}\n"
          ]
        }
      ]
    },
    {
      "cell_type": "code",
      "metadata": {
        "colab": {
          "base_uri": "https://localhost:8080/"
        },
        "id": "Kiy3zUUlotFq",
        "outputId": "21618b11-ee0d-449b-c06e-0e06edb1d9a1"
      },
      "source": [
        "#Konversi Tipe data set\n",
        "print(\"Konversi tipe data set\")\n",
        "A ={1, 2, 3, 4 ,5 }\n",
        "B ={\"Bandung\", \"Jakarta\", \"Bogor\", \"Tangerang\"}\n",
        "\n",
        "k_list = list(A)\n",
        "k_tuple = tuple(B)\n",
        "k_dict = dict(zip(A,B))\n",
        "# Menampilkan data yang telah dikonversi\n",
        "print(\"hasil konversi menjadi list: \",k_list)\n",
        "print(\"hasil konversi menjadi tuple: \", k_tuple)\n",
        "print(\"hasil konversi menjadi dictionary: \", k_dict)\n"
      ],
      "execution_count": 31,
      "outputs": [
        {
          "output_type": "stream",
          "name": "stdout",
          "text": [
            "Konversi tipe data set\n",
            "hasil konversi menjadi list:  [1, 2, 3, 4, 5]\n",
            "hasil konversi menjadi set:  ('Bogor', 'Jakarta', 'Tangerang', 'Bandung')\n",
            "hasil konversi menjadi dictionary:  {1: 'Bogor', 2: 'Jakarta', 3: 'Tangerang', 4: 'Bandung'}\n"
          ]
        }
      ]
    },
    {
      "cell_type": "code",
      "metadata": {
        "colab": {
          "base_uri": "https://localhost:8080/"
        },
        "id": "jDc1HuZIofH0",
        "outputId": "eb7cae38-cb1e-4e4b-f115-d68d1c5c8bd8"
      },
      "source": [
        "#Konversi tipe data Dictionary\\\n",
        "print(\"Konversi tipe data Dictionary\")\n",
        "X = {1 :2, 2 :3, 3 :4, 4 :5 }\n",
        "Y = {1: 'Bandung' , 2 : 'Jakarta' , 3 : 'Semarang' , 4: 'Banten'}\n",
        "\n",
        "k_list = list(X.keys())\n",
        "k_tuple = tuple(X.values())\n",
        "k1_tuple = tuple(X.keys())\n",
        "k1_set = set(X.values())\n",
        "k_set = set(Y.values())\n",
        "#Melihat data yang telah dikonversi\n",
        "print(\"hasil konversi menjadi list: \",k_list)\n",
        "print(\"hasil konversi menjadi tuple: \", k_tuple)\n",
        "print(\"hasil konversi menjadi tuple: \", k1_tuple)\n",
        "print(\"hasil konversi menjadi set: \", k1_set)\n",
        "print(\"hasil konversi menjadi set: \", k_set)"
      ],
      "execution_count": 39,
      "outputs": [
        {
          "output_type": "stream",
          "name": "stdout",
          "text": [
            "Konversi tipe data Dictionary\n",
            "hasil konversi menjadi list:  [1, 2, 3, 4]\n",
            "hasil konversi menjadi set:  (2, 3, 4, 5)\n",
            "hasil konversi menjadi set:  (1, 2, 3, 4)\n",
            "hasil konversi menjadi dictionary:  {2, 3, 4, 5}\n",
            "hasil konversi menjadi dictionary:  {'Banten', 'Jakarta', 'Semarang', 'Bandung'}\n"
          ]
        }
      ]
    }
  ]
}