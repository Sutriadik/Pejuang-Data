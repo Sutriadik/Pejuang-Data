{
  "nbformat": 4,
  "nbformat_minor": 0,
  "metadata": {
    "colab": {
      "name": "M3P2V1_Functions.ipynb",
      "provenance": [],
      "authorship_tag": "ABX9TyPf5PE7Ocl6D6Ipid765P3K",
      "include_colab_link": true
    },
    "kernelspec": {
      "name": "python3",
      "display_name": "Python 3"
    },
    "language_info": {
      "name": "python"
    }
  },
  "cells": [
    {
      "cell_type": "markdown",
      "metadata": {
        "id": "view-in-github",
        "colab_type": "text"
      },
      "source": [
        "<a href=\"https://colab.research.google.com/github/Sutriadik/Pejuang-Data_Science/blob/main/M3P2V1_Functions.ipynb\" target=\"_parent\"><img src=\"https://colab.research.google.com/assets/colab-badge.svg\" alt=\"Open In Colab\"/></a>"
      ]
    },
    {
      "cell_type": "markdown",
      "metadata": {
        "id": "s0Kac4Xub81f"
      },
      "source": [
        "## Function"
      ]
    },
    {
      "cell_type": "markdown",
      "metadata": {
        "id": "tNl3aSZUb_5G"
      },
      "source": [
        "Function (Fungsi) adalah sebuah blok sattement yang hanya akan dijalankan saat ia dipanggil\n",
        "\n",
        "Fungsi len() untuk mengukur jumlah elemen dalam sebuah list dan fungsi print() untuk menampilkan pesan pada layar konsol merupakan contoh dan bentuk fungsi yang telah disediakan oleh bahasa pemrograman Phyton atau dengan kata lain built-in functions.\n",
        "\n",
        "Selain fungsi yang telah disediakan oleh Phyton,Phyton mengizinkan untuk mendeklarasikan fungsi dalam kode yang dituliskan yang dikenal dengan user defined function\n"
      ]
    },
    {
      "cell_type": "markdown",
      "metadata": {
        "id": "BFnhzP3wc1r-"
      },
      "source": [
        "def nama_fungsi(argument):\n",
        "\n",
        "  statement_1\n",
        "\n",
        "  ...\n",
        "\n",
        "  statement_n\n",
        "\n",
        "  return returned_value\n",
        "\n"
      ]
    },
    {
      "cell_type": "markdown",
      "metadata": {
        "id": "57zp9AMRdIxl"
      },
      "source": [
        "nama_fungsi adalah nam untuk fungsi yang Anda definisikan ,memiliki aturan seperti penamaan variabel argument adalah variabel masukkan ke fungsi, bisa tanpa variabel, satu variabel atau lebih\n",
        "\n",
        "1. nama_fungsi adalah nam untuk fungsi yang Anda definisiakn ,memiliki aturan seperti penamaan variabel\n",
        "2. argument adalah variabel masukkan ke fungsi, bisa tanpa variabel, satu variabel atau lebih\n",
        "3. statement_1 ... statement_n adalah algoritma yang telah anda transfer dalam bahasa pemrograman Phyton yang merupakan inti dari fungsi yang Anda definisikan.seluruh statement adalah menjorok (indent) ke dalam seperti yang pernah anda pelajari pada conditioning dan loopoing\n",
        "4. return_value adalah variabel output fungsi anda , satu variabel atau lebih\n"
      ]
    },
    {
      "cell_type": "markdown",
      "metadata": {
        "id": "97vgH5smdFhl"
      },
      "source": [
        "## Argumen dan parameter\n",
        "\n",
        "\n",
        "1.   Parameter adalah variabel yang digunakan dalam deklarasi fungsi\n",
        "2.   Argumen adalah nilai yang diberikan saat pemanggilan fungsi\n",
        "\n"
      ]
    },
    {
      "cell_type": "code",
      "metadata": {
        "id": "2dM_o8wsfHRo"
      },
      "source": [
        "def print_nama(nama): # \"nama\" adalah parameter\n",
        "  print(nama)\n",
        "\n",
        "  print_nama('Budi') # 'Budi' adalah argumen\n",
        "\n"
      ],
      "execution_count": null,
      "outputs": []
    },
    {
      "cell_type": "markdown",
      "metadata": {
        "id": "zeIESs0XgLT4"
      },
      "source": [
        "Argumen Posisi dan kata kunci\n",
        "kita bisa menyatakan argumen sebagai argumen posisi atau kata kunci. Beberapa manfaat argumen kata kunci. Beberapa manfaat kata kunci dapat berupa:\n",
        "\n",
        "1.   Kita dapat menyebut argumen dengan nama mereka untuk memperjelas apa yang mereka wakili\n",
        "2.   kita dapat mengatur ulang argumen dengan cara yang membuatnya paling mudah dibaca\n",
        "\n",
        "\n",
        "\n"
      ]
    },
    {
      "cell_type": "code",
      "metadata": {
        "colab": {
          "base_uri": "https://localhost:8080/"
        },
        "id": "UaYvULZehD_o",
        "outputId": "63feb32a-a2eb-4872-816e-8a337ca5b029"
      },
      "source": [
        "def angka(a, b, c):\n",
        "    print(a,b,c)\n",
        "\n",
        "# argumen posisi\n",
        "# argumen berdasarkan posisinya\n",
        "angka(1, 2, 3)\n",
        "\n",
        "# argumen berdasarkan kata kuncinya\n",
        "angka(a=1, b=2, c=3)\n",
        "angka(c=3, b=2, a=1)\n",
        "# Catatan jika sudah diberi kunci maka urutan tidak menjadi penting\n",
        "\n",
        "# campuran antara argumen posisi dan argumen kata kunci\n",
        "angka(1, b=2, c=3)\n",
        "\n",
        "# ini tidak dijinkan :\n",
        "# foo(1, b=2,3) #argumen posisional setelah argumen kunci\n",
        "# foo(1, b=2,3) # terdapat dua nilai untuk argumen kunci \"a\""
      ],
      "execution_count": null,
      "outputs": [
        {
          "output_type": "stream",
          "name": "stdout",
          "text": [
            "1 2 3\n",
            "1 2 3\n",
            "1 2 3\n",
            "1 2 3\n"
          ]
        }
      ]
    },
    {
      "cell_type": "markdown",
      "metadata": {
        "id": "g6SAcQ5-ilwg"
      },
      "source": [
        "## Argumen Default"
      ]
    },
    {
      "cell_type": "markdown",
      "metadata": {
        "id": "tiZFQp54ipi9"
      },
      "source": [
        "Fungsi dapat memiliki argumen default dengan nilai yang telah ditentukan sebelumnya.argumen ini dapat ditinggalkan dan nilai default kemudian diteruskan ke fungsi, atau argumen dapat dirubah dengan nilai yang berbeda.perhatikan bahawa argumen default harus ditentukan sebagai **parameter terakhir** dalam suatu fungsi"
      ]
    },
    {
      "cell_type": "code",
      "metadata": {
        "colab": {
          "base_uri": "https://localhost:8080/"
        },
        "id": "RHMmiRHqjNZs",
        "outputId": "cb3bde5e-223b-4b83-e4e0-7021bc420071"
      },
      "source": [
        "# argumen default\n",
        "def angka2(a,b,c,d=4):\n",
        "    print(a,b,c,d)\n",
        "\n",
        "angka2(1,2,3,4)\n",
        "angka2(1,b=2,c=3,d=100)\n"
      ],
      "execution_count": null,
      "outputs": [
        {
          "output_type": "stream",
          "name": "stdout",
          "text": [
            "1 2 3 4\n",
            "1 2 3 100\n"
          ]
        }
      ]
    },
    {
      "cell_type": "markdown",
      "metadata": {
        "id": "w7QtLUBLjzcU"
      },
      "source": [
        "Praktik membuat fungsi"
      ]
    },
    {
      "cell_type": "code",
      "metadata": {
        "colab": {
          "base_uri": "https://localhost:8080/"
        },
        "id": "-20ZOFutj1Rt",
        "outputId": "450d60e6-ca54-42c8-ad38-91d4cd5d6c42"
      },
      "source": [
        "x = 1\n",
        "y = 2\n",
        "x*y\n",
        "print (x*y)\n",
        "\n",
        "alas = 3\n",
        "tinggi = 4\n",
        "(alas**2 + tinggi**2)**0.5\n"
      ],
      "execution_count": null,
      "outputs": [
        {
          "output_type": "stream",
          "name": "stdout",
          "text": [
            "2\n"
          ]
        },
        {
          "output_type": "execute_result",
          "data": {
            "text/plain": [
              "5.0"
            ]
          },
          "metadata": {},
          "execution_count": 66
        }
      ]
    },
    {
      "cell_type": "code",
      "metadata": {
        "colab": {
          "base_uri": "https://localhost:8080/"
        },
        "id": "RzVIzcwHj6Q1",
        "outputId": "7c51d1e1-0b08-44cf-af10-fb284a41b52f"
      },
      "source": [
        "def penjumlahan(x,y):    #input\n",
        "  a = x+y                #proses\n",
        "  return a               #output\n",
        "\n",
        "penjumlahan(1,2)        #menggunakan fungsi"
      ],
      "execution_count": null,
      "outputs": [
        {
          "output_type": "execute_result",
          "data": {
            "text/plain": [
              "3"
            ]
          },
          "metadata": {},
          "execution_count": 41
        }
      ]
    },
    {
      "cell_type": "markdown",
      "metadata": {
        "id": "A6mwUjSHkbJV"
      },
      "source": [
        "Penjumlahan yang memungkinkan untuk tiga bilangan"
      ]
    },
    {
      "cell_type": "code",
      "metadata": {
        "colab": {
          "base_uri": "https://localhost:8080/"
        },
        "id": "ccjnqyYlkZT8",
        "outputId": "0ceaacbf-1e5f-40a4-efcc-99148608819e"
      },
      "source": [
        "def penjumlahan (x,y,z=None):\n",
        "  if (z == None):\n",
        "    return x+y\n",
        "  else:\n",
        "    return x+y+z\n",
        "\n",
        "print(penjumlahan(1,2))\n",
        "print(penjumlahan(1,2,4))\n"
      ],
      "execution_count": null,
      "outputs": [
        {
          "output_type": "stream",
          "name": "stdout",
          "text": [
            "3\n",
            "7\n"
          ]
        }
      ]
    },
    {
      "cell_type": "markdown",
      "metadata": {
        "id": "jqtu9zsLrnzo"
      },
      "source": [
        "Menyimpan fungsi dalam variabel"
      ]
    },
    {
      "cell_type": "code",
      "metadata": {
        "colab": {
          "base_uri": "https://localhost:8080/"
        },
        "id": "_SWzDbBlrs1N",
        "outputId": "e0b14f3b-3929-44bc-9f1b-1f4eaac7b0ea"
      },
      "source": [
        "def penjumlahan(x,y):\n",
        "  return x+y\n",
        "\n",
        "a = penjumlahan\n",
        "a(1,2)"
      ],
      "execution_count": null,
      "outputs": [
        {
          "output_type": "execute_result",
          "data": {
            "text/plain": [
              "3"
            ]
          },
          "metadata": {},
          "execution_count": 22
        }
      ]
    },
    {
      "cell_type": "markdown",
      "metadata": {
        "id": "m4ICiKQlr4Nt"
      },
      "source": [
        "# Latihan 1"
      ]
    },
    {
      "cell_type": "markdown",
      "metadata": {
        "id": "n3y8-Mz5r6kE"
      },
      "source": [
        "buatlah function Phytagoras dengan input argumennya panjang tinggi dan alas segitiga untuk menghasilkan output nilai panjang sisi miring."
      ]
    },
    {
      "cell_type": "code",
      "metadata": {
        "colab": {
          "base_uri": "https://localhost:8080/"
        },
        "id": "YnNFeibXzJkl",
        "outputId": "b75a20b4-0418-4eb5-a31d-c028d6330bfa"
      },
      "source": [
        "x = int(input(\"masukkan nilai tinggi: \"))\n",
        "y = int(input(\"masukkan nilai alas: \"))\n",
        "\n",
        "tinggi = x\n",
        "alas = y\n",
        "\n",
        "def sisimiring(x,y):            #input\n",
        "  a = (x**2 + y**2)**0.5        #proses\n",
        "  return a                      #output\n",
        "print('-'*20)\n",
        "print(\"panjang Sisi miring: \" ,sisimiring(x,y))       # menampilkan hasil menggunakan fungsi\n",
        "\n"
      ],
      "execution_count": null,
      "outputs": [
        {
          "output_type": "stream",
          "name": "stdout",
          "text": [
            "masukkan nilai tinggi: 7\n",
            "masukkan nilai alas: 24\n",
            "--------------------\n",
            "panjang Sisi miring:  25.0\n"
          ]
        }
      ]
    },
    {
      "cell_type": "markdown",
      "metadata": {
        "id": "BoxkgWpSsLvl"
      },
      "source": [
        "# Latihan 2"
      ]
    },
    {
      "cell_type": "markdown",
      "metadata": {
        "id": "YZiuERqNsNpV"
      },
      "source": [
        "Buatlah Function luas permukaan balok dengan input argumennya panjang, lebar dan tinggi dari balok untuk menghasilkan output nilai luas permukaan balok tersebut"
      ]
    },
    {
      "cell_type": "code",
      "metadata": {
        "colab": {
          "base_uri": "https://localhost:8080/"
        },
        "id": "y5xYUAuosbWY",
        "outputId": "13915cfd-f09f-4565-80a3-972ad4973199"
      },
      "source": [
        "p = int(input(\"Masukkan nilai panjang: \"))\n",
        "l = int(input(\"Masukkan nilai lebar: \"))\n",
        "t = int(input(\"Masukkan nilai tinggi: \"))\n",
        "\n",
        "panjang= p\n",
        "lebar = l\n",
        "tinggi = t\n",
        "\n",
        "def Luas (p,l,t):\n",
        "  L = 2*(p*l) + 2*(p*t) + 2*(l*t)\n",
        "  return L\n",
        "print('-'*20)\n",
        "print(\"Nilai Luas permukaan: \",Luas(p,l,t))\n"
      ],
      "execution_count": null,
      "outputs": [
        {
          "output_type": "stream",
          "name": "stdout",
          "text": [
            "Masukkan nilai panjang: 2\n",
            "Masukkan nilai lebar: 2\n",
            "Masukkan nilai tinggi: 2\n",
            "--------------------\n",
            "Nilai Luas permukaan:  24\n"
          ]
        }
      ]
    }
  ]
}