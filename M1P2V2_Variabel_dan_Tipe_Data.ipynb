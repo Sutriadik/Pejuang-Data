{
  "nbformat": 4,
  "nbformat_minor": 0,
  "metadata": {
    "colab": {
      "name": "M1P2V2_Variabel_dan_Tipe_Data.ipynb",
      "provenance": [],
      "collapsed_sections": [],
      "authorship_tag": "ABX9TyNMxIh8Ss07A8mXBLJX5ezd",
      "include_colab_link": true
    },
    "kernelspec": {
      "name": "python3",
      "display_name": "Python 3"
    },
    "language_info": {
      "name": "python"
    }
  },
  "cells": [
    {
      "cell_type": "markdown",
      "metadata": {
        "id": "view-in-github",
        "colab_type": "text"
      },
      "source": [
        "<a href=\"https://colab.research.google.com/github/Sutriadik/Pejuang-Data/blob/main/M1P2V2_Variabel_dan_Tipe_Data.ipynb\" target=\"_parent\"><img src=\"https://colab.research.google.com/assets/colab-badge.svg\" alt=\"Open In Colab\"/></a>"
      ]
    },
    {
      "cell_type": "markdown",
      "metadata": {
        "colab_type": "toc",
        "id": "3ztUDn7Wutyr"
      },
      "source": [
        "Variabel & Tipe data"
      ]
    },
    {
      "cell_type": "markdown",
      "metadata": {
        "id": "BvK4IcniuyR3"
      },
      "source": [
        "Variabel\n",
        "\n",
        "\n",
        "---\n",
        "\n"
      ]
    },
    {
      "cell_type": "markdown",
      "metadata": {
        "id": "_F1lk64Mu2_T"
      },
      "source": [
        "Variables : Lokasi penyimpanan yang dapat digunakan untuk menampung sebuah data atau informasi.\n",
        "\n",
        "Syarat- Syarat penaman variable\n",
        "\n",
        "1 Karakter- karakter yang digunakan untuk penamaan variable adalah alphabet, angka dan underscore\n",
        "\n",
        "2.Karakter pertama variable harus berupa huruf atau garis bawah/underscore, dan tidak bisa berupa angka\n",
        "\n",
        "3.Nama sebuah variable tidak bisa menggunakan keyword atau reserved words dari bahasa phyton seperti for,if, dan lainnya.\n",
        "\n",
        "4.karakter pada nama variable bersifat sensitif(case-sensitif)"
      ]
    },
    {
      "cell_type": "code",
      "metadata": {
        "id": "W4zFKSpAvyhu"
      },
      "source": [
        "# membuat variable\n",
        "kalimat = 'ini adalah variable'\n",
        "bilangan1 = 4\n",
        "bilangan2 = 2.5\n",
        "bilangan3 = True\n",
        "bilangan4 = 1j +4"
      ],
      "execution_count": null,
      "outputs": []
    },
    {
      "cell_type": "code",
      "metadata": {
        "colab": {
          "base_uri": "https://localhost:8080/"
        },
        "id": "CjyN5RkBwSN5",
        "outputId": "a21103ca-a85c-4cb4-e391-387f41faf342"
      },
      "source": [
        "#menampilkan variable\n",
        "print(kalimat)\n",
        "print(bilangan1)\n",
        "print(bilangan2)\n",
        "print(bilangan3)"
      ],
      "execution_count": null,
      "outputs": [
        {
          "output_type": "stream",
          "name": "stdout",
          "text": [
            "ini adalah variable\n",
            "4\n",
            "2.5\n",
            "True\n"
          ]
        }
      ]
    },
    {
      "cell_type": "markdown",
      "metadata": {
        "id": "-xjIxZfZwdBh"
      },
      "source": [
        "Latihan 1"
      ]
    },
    {
      "cell_type": "code",
      "metadata": {
        "id": "xPJmD6Fbwepx"
      },
      "source": [
        "kalimat1 = 'Nama Saya'\n",
        "kalimat2 = 'Sutriadi Kurniawan'\n",
        "a = 100\n",
        "b = 12.5\n",
        "Nilai_kebenaran = True\n",
        "statement ='hari ini hujan'\n",
        "c = 2j + 5"
      ],
      "execution_count": null,
      "outputs": []
    },
    {
      "cell_type": "code",
      "metadata": {
        "colab": {
          "base_uri": "https://localhost:8080/"
        },
        "id": "khtGc0sXyAmS",
        "outputId": "c21b7abc-de0a-4a41-b5ee-1f735da6e05c"
      },
      "source": [
        " print(kalimat1)\n",
        " print(kalimat2)\n",
        " print('-'*20)\n",
        "\n",
        " print(a)\n",
        " print(b)\n",
        " print(c)\n",
        " print('-'*20)\n",
        "\n",
        " p= a+b;\n",
        " print(p)\n",
        " print(Nilai_kebenaran)"
      ],
      "execution_count": null,
      "outputs": [
        {
          "output_type": "stream",
          "name": "stdout",
          "text": [
            "Nama Saya\n",
            "Sutriadi Kurniawan\n",
            "--------------------\n",
            "100\n",
            "12.5\n",
            "(5+2j)\n",
            "--------------------\n",
            "112.5\n",
            "True\n"
          ]
        }
      ]
    },
    {
      "cell_type": "markdown",
      "metadata": {
        "id": "2WOpR0O0z4kT"
      },
      "source": [
        "Tipe Data"
      ]
    },
    {
      "cell_type": "markdown",
      "metadata": {
        "id": "_K-6cvIwz7fc"
      },
      "source": [
        "5 tipe data yaitu\n",
        "1. Integer atau bilangan bulat\n",
        "2. Float atau bilangan desimal\n",
        "3. String atau kalimat\n",
        "4. Boolean yang terdiri dari True dan False\n",
        "5. Complex yang merupakan bilangan kompleks"
      ]
    },
    {
      "cell_type": "code",
      "metadata": {
        "colab": {
          "base_uri": "https://localhost:8080/"
        },
        "id": "0pXcm03Z1vs8",
        "outputId": "38908ee5-1bd4-4bc4-b1e7-f1630c83e68b"
      },
      "source": [
        "#menampilkan tipe data\n",
        "print(type(kalimat))\n",
        "print(type(bilangan1))\n",
        "print(type(bilangan2))\n",
        "print(type(bilangan3))\n",
        "print(type(bilangan4))\n",
        "print(type(statement))"
      ],
      "execution_count": null,
      "outputs": [
        {
          "output_type": "stream",
          "name": "stdout",
          "text": [
            "<class 'str'>\n",
            "<class 'int'>\n",
            "<class 'float'>\n",
            "<class 'bool'>\n",
            "<class 'complex'>\n",
            "<class 'str'>\n"
          ]
        }
      ]
    },
    {
      "cell_type": "markdown",
      "metadata": {
        "id": "qkM-tK_s2GiV"
      },
      "source": [
        "Latihan 2"
      ]
    },
    {
      "cell_type": "code",
      "metadata": {
        "colab": {
          "base_uri": "https://localhost:8080/"
        },
        "id": "QCeaKg842Iib",
        "outputId": "2cc72af0-8ad0-43b8-8a20-e88698e1be64"
      },
      "source": [
        "print(type(kalimat1))\n",
        "print(type(a))\n",
        "print(type(b))\n",
        "print(type(Nilai_kebenaran))\n",
        "print(type(c))"
      ],
      "execution_count": null,
      "outputs": [
        {
          "output_type": "stream",
          "name": "stdout",
          "text": [
            "<class 'str'>\n",
            "<class 'int'>\n",
            "<class 'float'>\n",
            "<class 'bool'>\n",
            "<class 'complex'>\n"
          ]
        }
      ]
    },
    {
      "cell_type": "markdown",
      "metadata": {
        "id": "QmjXxZBS2aXy"
      },
      "source": [
        "Syntax Konversi tipe data\n",
        "1. Integer = int()\n",
        "2. Float   = float()\n",
        "3. String  = str()\n",
        "4. Boolean = bool()\n",
        "5. Complex = Complex()"
      ]
    },
    {
      "cell_type": "code",
      "metadata": {
        "colab": {
          "base_uri": "https://localhost:8080/"
        },
        "id": "SnRoOomP29Lg",
        "outputId": "c516b9a0-2d00-4660-b9b5-ef00df83cc0b"
      },
      "source": [
        "#konversi tipe data integer\n",
        "print(int(bilangan2))\n",
        "print(int(bilangan3))"
      ],
      "execution_count": null,
      "outputs": [
        {
          "output_type": "stream",
          "name": "stdout",
          "text": [
            "2\n",
            "1\n"
          ]
        }
      ]
    },
    {
      "cell_type": "code",
      "metadata": {
        "colab": {
          "base_uri": "https://localhost:8080/"
        },
        "id": "9gpD-maZJsZ5",
        "outputId": "9c82d9c5-9678-43da-d577-1fcd15492474"
      },
      "source": [
        "#konversi tipe data float\n",
        "print(float(bilangan1))\n",
        "print(float(bilangan3))"
      ],
      "execution_count": null,
      "outputs": [
        {
          "output_type": "stream",
          "name": "stdout",
          "text": [
            "4.0\n",
            "1.0\n"
          ]
        }
      ]
    },
    {
      "cell_type": "code",
      "metadata": {
        "colab": {
          "base_uri": "https://localhost:8080/"
        },
        "id": "CSG0rTL3GHln",
        "outputId": "5dbb144b-6a2e-4afc-cbb2-b4665de0dd58"
      },
      "source": [
        "#konversi tipe data string\n",
        "print(str(bilangan1))\n",
        "print(str(bilangan2))\n",
        "print(str(bilangan3))"
      ],
      "execution_count": null,
      "outputs": [
        {
          "output_type": "stream",
          "name": "stdout",
          "text": [
            "4\n",
            "2.5\n",
            "True\n"
          ]
        }
      ]
    },
    {
      "cell_type": "code",
      "metadata": {
        "colab": {
          "base_uri": "https://localhost:8080/"
        },
        "id": "VcwenPx-HZhO",
        "outputId": "5b50022b-8837-4615-e0b0-b99e287baade"
      },
      "source": [
        "#konversi tipe data bool\n",
        "print(bool(bilangan1))\n",
        "print(bool(bilangan2))"
      ],
      "execution_count": null,
      "outputs": [
        {
          "output_type": "stream",
          "name": "stdout",
          "text": [
            "True\n",
            "True\n"
          ]
        }
      ]
    },
    {
      "cell_type": "code",
      "metadata": {
        "colab": {
          "base_uri": "https://localhost:8080/"
        },
        "id": "Z_X9rxtvF924",
        "outputId": "02f4f561-864b-40ee-d6f1-96bbb3926dac"
      },
      "source": [
        "#konversi tipe data complex\n",
        "print(complex(bilangan1))\n",
        "print(complex(bilangan2))\n",
        "print(complex(bilangan3))\n"
      ],
      "execution_count": null,
      "outputs": [
        {
          "output_type": "stream",
          "name": "stdout",
          "text": [
            "(4+0j)\n",
            "(2.5+0j)\n",
            "(1+0j)\n"
          ]
        }
      ]
    },
    {
      "cell_type": "markdown",
      "metadata": {
        "id": "e8U4LTFBH2lR"
      },
      "source": [
        "Latihan 3"
      ]
    },
    {
      "cell_type": "code",
      "metadata": {
        "colab": {
          "base_uri": "https://localhost:8080/"
        },
        "id": "QsaDk7tFH4s-",
        "outputId": "06b78910-cb0f-4234-d11e-c46b08161659"
      },
      "source": [
        "#konversi tipe data\n",
        "kalimat1 = 'Nama Saya'\n",
        "kalimat2 = 'Sutriadi Kurniawan'\n",
        "a = 100\n",
        "b = 12.5\n",
        "Nilai_kebenaran = True\n",
        "statement ='hari ini hujan'\n",
        "c = 2j + 5\n",
        "\n",
        "#konversi tipe data integer\n",
        "print('Konversi tipe data integer')\n",
        "print(int(a))\n",
        "print(int(b))\n",
        "print('-'*20)\n",
        "print('-'*20)\n",
        "\n",
        "#Konversi tipe data string\n",
        "print('konversi tipe data string')\n",
        "print(str(b))\n",
        "print(str(kalimat1))\n",
        "print(str(statement))\n",
        "print('-'*20)\n",
        "print('-'*20)\n",
        "\n",
        "#konversi tipe data float\n",
        "print('konversi tipe data float')\n",
        "print(float(a))\n",
        "print(float(b))\n",
        "print(float(Nilai_kebenaran))\n",
        "print('-'*20)\n",
        "print('-'*20)\n",
        "\n",
        "#konversi tipe data bool\n",
        "print('konversi tipe data bool')\n",
        "print(bool(Nilai_kebenaran))\n",
        "print(bool(b))\n",
        "print('-'*20)\n",
        "print('-'*20)\n",
        "\n",
        "#konversi tipe data kompleks\n",
        "print('konversi tipe data complex')\n",
        "print(complex(a))\n",
        "print(complex(b))\n",
        "print(complex(c))"
      ],
      "execution_count": null,
      "outputs": [
        {
          "output_type": "stream",
          "name": "stdout",
          "text": [
            "Konversi tipe data integer\n",
            "100\n",
            "12\n",
            "--------------------\n",
            "--------------------\n",
            "konversi tipe data string\n",
            "12.5\n",
            "Nama Saya\n",
            "hari ini hujan\n",
            "--------------------\n",
            "--------------------\n",
            "konversi tipe data float\n",
            "100.0\n",
            "12.5\n",
            "1.0\n",
            "--------------------\n",
            "--------------------\n",
            "konversi tipe data bool\n",
            "True\n",
            "True\n",
            "--------------------\n",
            "--------------------\n",
            "konversi tipe data complex\n",
            "(100+0j)\n",
            "(12.5+0j)\n",
            "(5+2j)\n"
          ]
        }
      ]
    }
  ]
}