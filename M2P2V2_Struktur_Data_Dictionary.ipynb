{
  "nbformat": 4,
  "nbformat_minor": 0,
  "metadata": {
    "colab": {
      "name": "M2P2V2_Struktur_Data_Dictionary.ipynb",
      "provenance": [],
      "authorship_tag": "ABX9TyM8YCeiDuuc6yqRYSq3xAsL"
    },
    "kernelspec": {
      "name": "python3",
      "display_name": "Python 3"
    },
    "language_info": {
      "name": "python"
    }
  },
  "cells": [
    {
      "cell_type": "markdown",
      "metadata": {
        "id": "htfbgsrh_bFO"
      },
      "source": [
        "## Dictionary"
      ]
    },
    {
      "cell_type": "markdown",
      "metadata": {
        "id": "NiQSMnMn_d9_"
      },
      "source": [
        "Dictionary pada Phyton adalah kumpulan pasangan kunci-nilai (pair of key-value) yang bersifat tidak berurutan.Dictionary dapat digunakan untuk menyimpan data kecil hingga besar.Untuk dapat mengakses datanya,kita harus mengetahui kuncinya (key).Pada Phyton,dictionary didefinisikan dengan kurawal dan tambahan definisi berikut:\n",
        "\n",
        "*   Setiap elemen pair key-value dipisahkan dengan koma(,)\n",
        "*   Key dan Value dipisahkan dengan titik dua (:)\n",
        "*   Key dan Value dapat berupa tipe variabel/objek apapun\n",
        "\n",
        "\n",
        "\n",
        "\n",
        "\n",
        "\n"
      ]
    },
    {
      "cell_type": "code",
      "metadata": {
        "colab": {
          "base_uri": "https://localhost:8080/"
        },
        "id": "UWXCDQv2AnUl",
        "outputId": "1fc28315-91bd-4d29-ee2c-3bbbafef294b"
      },
      "source": [
        "#Contoh Dictionary\n",
        "D1 ={1:'value', 'Key':2}\n",
        "print(D1)"
      ],
      "execution_count": 2,
      "outputs": [
        {
          "output_type": "stream",
          "name": "stdout",
          "text": [
            "{1: 'value', 'Key': 2}\n"
          ]
        }
      ]
    },
    {
      "cell_type": "markdown",
      "metadata": {
        "id": "fyyHApp4BHKb"
      },
      "source": [
        "## Latihan 1"
      ]
    },
    {
      "cell_type": "code",
      "metadata": {
        "colab": {
          "base_uri": "https://localhost:8080/"
        },
        "id": "nsfE0vjDBIxs",
        "outputId": "ff4f2375-efd1-4f75-af0c-8978736020cd"
      },
      "source": [
        "#Buatlah Struktur data dictionary kalian sendiri\n",
        "X = {1 :2, 2 :3, 3 :4, 4 :5 }\n",
        "Y = {1: 'Bandung' , 2 : 'Jakarta' , 3 : 'Semarang' , 4: 'Banten'}\n",
        "Z = {'a' : 20, 'b' : 25, 'c':30 }\n",
        "print(X)\n",
        "print(Y)\n",
        "print(Z)\n"
      ],
      "execution_count": 35,
      "outputs": [
        {
          "output_type": "stream",
          "name": "stdout",
          "text": [
            "{1: 2, 2: 3, 3: 4, 4: 5}\n",
            "{1: 'Bandung', 2: 'Jakarta', 3: 'Semarang', 4: 'Banten'}\n",
            "{'a': 20, 'b': 25, 'c': 30}\n"
          ]
        }
      ]
    },
    {
      "cell_type": "code",
      "metadata": {
        "colab": {
          "base_uri": "https://localhost:8080/"
        },
        "id": "6D0kLzOoC9bI",
        "outputId": "eabdf049-7b18-48a5-922f-0e8a7b183f83"
      },
      "source": [
        "#memanggil elemen Berdasarkan key\n",
        "D1 ={1:'value', 'Key':2}\n",
        "print(\"D1 ['Key'] = \", D1['Key']);\n",
        "print(\"D1 [1] = \", D1[1])"
      ],
      "execution_count": 27,
      "outputs": [
        {
          "output_type": "stream",
          "name": "stdout",
          "text": [
            "D1 ['Key'] =  2\n",
            "D1 [1] =  value\n"
          ]
        }
      ]
    },
    {
      "cell_type": "markdown",
      "metadata": {
        "id": "Oh4vtZVHDvec"
      },
      "source": [
        "Dictionary bukan termasuk dalam implementasi urutan (sequences), sehingga tidak bisa dipanggil dengan urutan indeks. misalnya dalam contoh berikut dicoba dengan indeks 2, tetapi menghasilkan error (KeyError) karena tidak ada kunci (key)2:"
      ]
    },
    {
      "cell_type": "code",
      "metadata": {
        "colab": {
          "base_uri": "https://localhost:8080/",
          "height": 182
        },
        "id": "POLh5e3aEJgF",
        "outputId": "90af78b7-4265-4447-c138-05d2da813bb3"
      },
      "source": [
        "#mencoba error\n",
        "print(\"D1[2]= \", D1[2])"
      ],
      "execution_count": 18,
      "outputs": [
        {
          "output_type": "error",
          "ename": "KeyError",
          "evalue": "ignored",
          "traceback": [
            "\u001b[0;31m---------------------------------------------------------------------------\u001b[0m",
            "\u001b[0;31mKeyError\u001b[0m                                  Traceback (most recent call last)",
            "\u001b[0;32m<ipython-input-18-80f3780d03d4>\u001b[0m in \u001b[0;36m<module>\u001b[0;34m()\u001b[0m\n\u001b[1;32m      1\u001b[0m \u001b[0;31m#mencoba error\u001b[0m\u001b[0;34m\u001b[0m\u001b[0;34m\u001b[0m\u001b[0;34m\u001b[0m\u001b[0m\n\u001b[0;32m----> 2\u001b[0;31m \u001b[0mprint\u001b[0m\u001b[0;34m(\u001b[0m\u001b[0;34m\"D1[2]= \"\u001b[0m\u001b[0;34m,\u001b[0m \u001b[0mD1\u001b[0m\u001b[0;34m[\u001b[0m\u001b[0;36m2\u001b[0m\u001b[0;34m]\u001b[0m\u001b[0;34m)\u001b[0m\u001b[0;34m\u001b[0m\u001b[0;34m\u001b[0m\u001b[0m\n\u001b[0m",
            "\u001b[0;31mKeyError\u001b[0m: 2"
          ]
        }
      ]
    },
    {
      "cell_type": "markdown",
      "metadata": {
        "id": "l_2VHR-aEctd"
      },
      "source": [
        "# Latihan 2"
      ]
    },
    {
      "cell_type": "code",
      "metadata": {
        "colab": {
          "base_uri": "https://localhost:8080/"
        },
        "id": "xViMRMrNEeJl",
        "outputId": "e6f716ea-6c2e-4d65-c6c2-cc4270cab948"
      },
      "source": [
        "X = {1 :2, 2 :3, 3 :4, 4 :5 }\n",
        "Y = {1: 'Bandung' , 2 : 'Jakarta' , 3 : 'Semarang' , 4: 'Banten'}\n",
        "Z = {'a' : 20, 'b' : 25, 'c':30 }\n",
        "\n",
        "print(\"X [1] = \", X[1]);\n",
        "print(\"X [2] = \", X[2]);\n",
        "print(\"X [3] = \", X[3]);\n",
        "print(\"X [4] = \", X[4])\n",
        "\n",
        "print('-'*20)\n",
        "\n",
        "print(\"Y [1] = \", Y[1])\n",
        "print(\"Y [2] = \", Y[2])\n",
        "print(\"Y [4] = \", Y[4])\n",
        "\n",
        "print('-'*20)\n",
        "\n",
        "print(\"Z['a']= \", Z['a'])\n",
        "print(\"Z['b']= \", Z['b'])\n",
        "print(\"Z['c']= \", Z['c'])"
      ],
      "execution_count": 40,
      "outputs": [
        {
          "output_type": "stream",
          "name": "stdout",
          "text": [
            "X [1] =  2\n",
            "X [2] =  3\n",
            "X [3] =  4\n",
            "X [4] =  5\n",
            "--------------------\n",
            "Y [1] =  Bandung\n",
            "Y [2] =  Jakarta\n",
            "Y [4] =  Banten\n",
            "--------------------\n",
            "Z['a']=  20\n",
            "Z['b']=  25\n",
            "Z['c']=  30\n"
          ]
        }
      ]
    }
  ]
}