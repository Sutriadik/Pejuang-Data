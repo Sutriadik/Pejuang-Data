{
  "nbformat": 4,
  "nbformat_minor": 0,
  "metadata": {
    "colab": {
      "name": "M3P1V1_If_Elif_Else.ipynb",
      "provenance": [],
      "authorship_tag": "ABX9TyPVFk/SMXwwy8m+SQjC9OXn",
      "include_colab_link": true
    },
    "kernelspec": {
      "name": "python3",
      "display_name": "Python 3"
    },
    "language_info": {
      "name": "python"
    }
  },
  "cells": [
    {
      "cell_type": "markdown",
      "metadata": {
        "id": "view-in-github",
        "colab_type": "text"
      },
      "source": [
        "<a href=\"https://colab.research.google.com/github/Sutriadik/Pejuang-Data_Science/blob/main/M3P1V1_If_Elif_Else.ipynb\" target=\"_parent\"><img src=\"https://colab.research.google.com/assets/colab-badge.svg\" alt=\"Open In Colab\"/></a>"
      ]
    },
    {
      "cell_type": "markdown",
      "metadata": {
        "id": "dcMqkE7EdHSN"
      },
      "source": [
        "# Percabangan/Struktur Pemilihan"
      ]
    },
    {
      "cell_type": "markdown",
      "metadata": {
        "id": "rWQtsXT5fuei"
      },
      "source": [
        "Pada bagian ini, kamu akan membuat keputusan pada bahasa pemrograman Phyton menggunakan struktur percabangan atau juga sering disebut IF ELSE Statement. Pengambilan keputusan dibutuhkan ketika kamu mengeksekusi suatu kode jika sebuah kondisi tertentu dipenuhi"
      ]
    },
    {
      "cell_type": "markdown",
      "metadata": {
        "id": "VH2fNTuMgJ3q"
      },
      "source": [
        "# IF Statements"
      ]
    },
    {
      "cell_type": "markdown",
      "metadata": {
        "id": "I3Nm6vr9hNRx"
      },
      "source": [
        "Phyton IF statement Syntax"
      ]
    },
    {
      "cell_type": "code",
      "metadata": {
        "colab": {
          "base_uri": "https://localhost:8080/"
        },
        "id": "MCZJdhSPgSwq",
        "outputId": "631e5258-17e0-4396-d612-f6a59275503b"
      },
      "source": [
        "# Jika angka adalah bilangan positif maka print 'adalah bilangan positif\n",
        "\n",
        "angka = 3\n",
        "if angka > 0:\n",
        "  print(angka, \"adalaah bilangan positif.\")\n",
        "  print(\"Pernyataan ini selalu ditampilkan\")\n",
        "\n",
        "angka = -1\n",
        "if angka > 0:\n",
        "  print(angka, \"adalaah bilangan positif.\")\n",
        "  print(\"Pernyataan ini selalu ditampilkan\")\n"
      ],
      "execution_count": 9,
      "outputs": [
        {
          "output_type": "stream",
          "name": "stdout",
          "text": [
            "3 adalaah bilangan positif.\n",
            "Pernyataan ini selalu ditampilkan\n"
          ]
        }
      ]
    },
    {
      "cell_type": "markdown",
      "metadata": {
        "id": "QzjgkRXVhH-D"
      },
      "source": [
        "# IF ELSE STATEMENT"
      ]
    },
    {
      "cell_type": "markdown",
      "metadata": {
        "id": "gvbgk3zQhRci"
      },
      "source": [
        "Phyton IF ELSE statement syntax"
      ]
    },
    {
      "cell_type": "code",
      "metadata": {
        "colab": {
          "base_uri": "https://localhost:8080/"
        },
        "id": "j5l7VSPohVAC",
        "outputId": "6d04339b-60e5-4f7c-9aa5-aaafdb5b9f0c"
      },
      "source": [
        "# Program disusun untuk mengecek apakah angka tersebut kurang dari 0 atau tidak\n",
        "# Dan menampilkan tulisan yang sesuai\n",
        "\n",
        "angka = 3\n",
        "if angka >= 0:\n",
        "  print(\"Bilangan lebih dari sama dengan 0\")\n",
        "else:\n",
        "  print(\"bilangan kurang dari 0\")\n"
      ],
      "execution_count": 14,
      "outputs": [
        {
          "output_type": "stream",
          "name": "stdout",
          "text": [
            "Bilangan lebih dari sama dengan 0\n"
          ]
        }
      ]
    },
    {
      "cell_type": "code",
      "metadata": {
        "colab": {
          "base_uri": "https://localhost:8080/"
        },
        "id": "1Z_F1O9jicWj",
        "outputId": "52bab976-c36d-4b2e-9aaa-e3eb4dd51ab8"
      },
      "source": [
        "# Program disusun untuk mengecek a[akah perbandingan dua buah angka\n",
        "# Menampilkan tulisan yang sesuai\n",
        "\n",
        "a= 5\n",
        "b= 3\n",
        "\n",
        "if a==b:\n",
        "  print(\"a dan b bernilai sama\")\n",
        "else:\n",
        "  print(\"a dan b bernilai berbeda\")\n",
        "  print(\"belajar If Else\")"
      ],
      "execution_count": 15,
      "outputs": [
        {
          "output_type": "stream",
          "name": "stdout",
          "text": [
            "a dan b bernilai berbeda\n",
            "belajar If Else\n"
          ]
        }
      ]
    },
    {
      "cell_type": "code",
      "metadata": {
        "colab": {
          "base_uri": "https://localhost:8080/"
        },
        "id": "7vRJGzxdjD7L",
        "outputId": "ac17688b-8b54-4ded-ff1f-9b52faa93589"
      },
      "source": [
        "# Program disusun untuk mengecek a[akah perbandingan dua buah angka\n",
        "# Menampilkan tulisan yang sesuai\n",
        "\n",
        "# membaca dua angka\n",
        "bil1 = int(input(\"Masukkan bilangan pertama :\"))\n",
        "bil2 = int(input(\"Masukkan bilangan kedua :\"))\n",
        "\n",
        "#  Memilih bilangan yang lebih besar\n",
        "if bil1 > bil2:\n",
        "  bil_lebih_besar = bil1\n",
        "else:\n",
        "  bil_lebih_besar = bil2\n",
        "\n",
        "#menampilkan hasil\n",
        "print(\"bilangan yang lebih besar adalah: \", bil_lebih_besar)\n"
      ],
      "execution_count": 20,
      "outputs": [
        {
          "output_type": "stream",
          "name": "stdout",
          "text": [
            "Masukkan bilangan pertama :10\n",
            "Masukkan bilangan kedua :21\n",
            "bilangan yang lebih besar adalah:  21\n"
          ]
        }
      ]
    },
    {
      "cell_type": "markdown",
      "metadata": {
        "id": "mnrqVqMskWL6"
      },
      "source": [
        "# IF ELIF ELSE Statements"
      ]
    },
    {
      "cell_type": "code",
      "metadata": {
        "colab": {
          "base_uri": "https://localhost:8080/"
        },
        "id": "Ch0IO534kjEK",
        "outputId": "7e710673-c724-4f2d-b01d-6ba0e92de0c4"
      },
      "source": [
        "# Program disusun untuk mengecek apakah angka merupakan bilangan positif, negatif,atau nol\n",
        "# dan menampilkan tulisan yang sesuai\n",
        "\n",
        "angka = 0\n",
        "\n",
        "if angka > 0:\n",
        "  print(\"bilangan positif\")\n",
        "elif angka == 0:\n",
        "    print (\"Nol\")\n",
        "else:\n",
        "    print(\"bilangan Negatif\")  "
      ],
      "execution_count": 28,
      "outputs": [
        {
          "output_type": "stream",
          "name": "stdout",
          "text": [
            "Nol\n"
          ]
        }
      ]
    },
    {
      "cell_type": "code",
      "metadata": {
        "colab": {
          "base_uri": "https://localhost:8080/"
        },
        "id": "VF2nHpNWldGa",
        "outputId": "0fe2d671-002b-4c44-f01f-49a6c7db913c"
      },
      "source": [
        "#Statement if\n",
        "y = 4\n",
        "if y % 2 == 0 : #Jika x dibagi 2 sisanya nol\n",
        "  print (\"y habis dibagi dua\")\n",
        "\n",
        "#Statement if ..... elif ..... else\n",
        "x = 5\n",
        "if x % 2 == 0:    #jika x dibagi 2 sisanya nol\n",
        "  print (\"x habis dibagi dua\")\n",
        "elif x % 3 == 0:  #jika x dibagi 3 sisanya nol\n",
        "  print (\"x habis dibagi tiga\")\n",
        "elif x % 5 == 0:  #jika x dibagi 5 sisanya nol\n",
        "  print (\"x habis dibagi lima\")\n",
        "else:\n",
        "  print (\"x tidak habis dibagi dua ,tiga ataupun lima\")"
      ],
      "execution_count": 40,
      "outputs": [
        {
          "output_type": "stream",
          "name": "stdout",
          "text": [
            "y habis dibagi dua\n",
            "x habis dibagi lima\n"
          ]
        }
      ]
    },
    {
      "cell_type": "markdown",
      "metadata": {
        "id": "1vO9TAjUnO2j"
      },
      "source": [
        "# Phyton Nested IF statements[link text](https://)"
      ]
    },
    {
      "cell_type": "markdown",
      "metadata": {
        "id": "zbPrqv3nnZGK"
      },
      "source": [
        "Example : Phyton NESTED IF statement"
      ]
    },
    {
      "cell_type": "code",
      "metadata": {
        "colab": {
          "base_uri": "https://localhost:8080/"
        },
        "id": "bTK-pvdmnp45",
        "outputId": "08d759c0-da35-4063-a6fd-254b72f2798f"
      },
      "source": [
        "# Program disusun untuk mengecek apakah angka merupakan bilangan positif,negatif, atau nol\n",
        "# Dan menampilkan Tulisan yang sesuai\n",
        "\n",
        "angka = float(input(\"Masukkan angka: \"))\n",
        "if angka >= 0:\n",
        "  if angka == 0:\n",
        "    print (\"Nol\")\n",
        "  else:\n",
        "    print (\"Bilangan positif\")\n",
        "else:\n",
        "  print(\"Bilangan negatif\")    "
      ],
      "execution_count": 42,
      "outputs": [
        {
          "output_type": "stream",
          "name": "stdout",
          "text": [
            "Masukkan angka: -205\n",
            "Bilangan negatif\n"
          ]
        }
      ]
    },
    {
      "cell_type": "markdown",
      "metadata": {
        "id": "xW-zjBZ0oZNy"
      },
      "source": [
        "# Latihan"
      ]
    },
    {
      "cell_type": "markdown",
      "metadata": {
        "id": "Kl1tE3j6oa3h"
      },
      "source": [
        "Buatlah sebuah fungsi \"Mahal_Diskon\" dengan ketentuan:\n",
        "\n",
        "\n",
        "*   Input berupa data harga produk dengan tipe data numerik tunggal\n",
        "*   Kategori input adalah \"Murah\" dan \"Mahal\", kemudian diskon ada 3 kategori: 10%,20%, dan 40%\n",
        "*   output pertama sebuah teks/string yang menyatakan \"Mahal\" atau \"Murah\" dan keterangan \"Kamu dapat Diskon...\"\n",
        "*   output kedua adalah harga yang perlu dibayarkan\n",
        "\n",
        "\n",
        "\n",
        "\n"
      ]
    },
    {
      "cell_type": "code",
      "metadata": {
        "colab": {
          "base_uri": "https://localhost:8080/"
        },
        "id": "PpbBCK9Mpa7y",
        "outputId": "0e022c22-690d-41d4-f8eb-8bde1eee4c03"
      },
      "source": [
        "harga = int(input(\"Masukkan harga :\"))\n",
        "\n",
        "if harga >= 100000:\n",
        "  print(\"Kategori Mahal\")\n",
        "\n",
        "  if  100000 <= harga < 200000:\n",
        "    print(\"Kamu mendapat diskon 10 %\")\n",
        "    x = harga - harga*0.1\n",
        "    print (\"Total harga yang harus dibayar =\", x)\n",
        "  if  200000 <= harga <=500000: \n",
        "    print (\"kamu mendapat diskon 20%\")\n",
        "    y = harga - harga*0.2\n",
        "    print (\"Total harga yang harus dibayar =\", y)\n",
        "  if harga > 500000:  \n",
        "    print (\"Kamu mendapat diskon 40%\")\n",
        "    z = harga - harga*0.4\n",
        "    print (\"Total harga yang harus dibayar =\", z)\n",
        "\n",
        "else:\n",
        "  print(\"kategori murah\")\n",
        "    "
      ],
      "execution_count": 15,
      "outputs": [
        {
          "output_type": "stream",
          "name": "stdout",
          "text": [
            "Masukkan harga :600000\n",
            "Kategori Mahal\n",
            "Kamu mendapat diskon 40%\n",
            "Total harga yang harus dibayar = 360000.0\n"
          ]
        }
      ]
    }
  ]
}