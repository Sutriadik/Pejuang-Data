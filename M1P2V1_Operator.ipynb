{
  "nbformat": 4,
  "nbformat_minor": 0,
  "metadata": {
    "colab": {
      "name": "M1P2V1_Operator.ipynb",
      "provenance": [],
      "collapsed_sections": [],
      "authorship_tag": "ABX9TyPHYWvCl3wIft5Gb86pcfsA",
      "include_colab_link": true
    },
    "kernelspec": {
      "name": "python3",
      "display_name": "Python 3"
    },
    "language_info": {
      "name": "python"
    }
  },
  "cells": [
    {
      "cell_type": "markdown",
      "metadata": {
        "id": "view-in-github",
        "colab_type": "text"
      },
      "source": [
        "<a href=\"https://colab.research.google.com/github/Sutriadik/Pejuang-Data/blob/main/M1P2V1_Operator.ipynb\" target=\"_parent\"><img src=\"https://colab.research.google.com/assets/colab-badge.svg\" alt=\"Open In Colab\"/></a>"
      ]
    },
    {
      "cell_type": "markdown",
      "metadata": {
        "id": "XxguhAbPX9QG"
      },
      "source": [
        " Operator\n",
        "\n",
        "Operator = Simbol-simbol yang dapat digunakan untuk mengubah nilai dari satu variabel dengan melibatkan satu atau lebih variabel dan literal tipe-tipe operator\n",
        "  1. Operator Aritmatika\n",
        "  2. Operator Assignment\n",
        "  3. Operator Pembanding\n",
        "  4. Operator Logika\n",
        "  5. Operator Membership\n"
      ]
    },
    {
      "cell_type": "markdown",
      "metadata": {
        "id": "5Lsa9XLGYpo1"
      },
      "source": [
        "1. Operator Aritmatika\n",
        "\n",
        "Operator aritmatika digunakan untuk melakukan operasi matematika yang umum.\n",
        "\n",
        "macam macam operator aritmatika\n",
        "\n"
      ]
    },
    {
      "cell_type": "code",
      "metadata": {
        "id": "VNL6Maj5Z2Y8"
      },
      "source": [
        "'''\n",
        "+ : penjumlahan\n",
        "- : pengurangan\n",
        "* : perkalian\n",
        "/ : pembagian\n",
        "% : Modulus\n",
        "** : perpangkatan\n",
        "// : pembagian dengan hasil pembulatan flooring\n",
        "'''"
      ],
      "execution_count": null,
      "outputs": []
    },
    {
      "cell_type": "code",
      "metadata": {
        "colab": {
          "base_uri": "https://localhost:8080/"
        },
        "id": "Pg5RB5GIZbid",
        "outputId": "f0db896b-3f77-481d-c0a5-415172085a3f"
      },
      "source": [
        "#contoh Penggunaan Operator Aritmatika\n",
        "\n",
        "#Penjumlahan\n",
        "print('Penjumlahan')\n",
        "print(2+2)\n",
        "#Pengurangan\n",
        "print('-'*20)\n",
        "print('Pengurangan')\n",
        "print(5-3)\n",
        "#Perkalian\n",
        "print('-'*20)\n",
        "print('Perkalian')\n",
        "print(5*4)\n",
        "#Pembagian\n",
        "print('-'*20)\n",
        "print('Pembagian')\n",
        "print(20/10)\n",
        "#Modulus\n",
        "print('-'*20)\n",
        "print('Modulus')\n",
        "print(5%3)\n",
        "#Perpangkatan\n",
        "print('-'*20)\n",
        "print('Perpangkatan')\n",
        "print(2**5)\n",
        "#Pembagian dalam Pembulatan Flooring\n",
        "print('-'*20)\n",
        "print('Pembagian Pembulatan Flooring')\n",
        "print(3//2)\n",
        "\n"
      ],
      "execution_count": null,
      "outputs": [
        {
          "output_type": "stream",
          "name": "stdout",
          "text": [
            "Penjumlahan\n",
            "4\n",
            "--------------------\n",
            "Pengurangan\n",
            "2\n",
            "--------------------\n",
            "Perkalian\n",
            "20\n",
            "--------------------\n",
            "Pembagian\n",
            "2.0\n",
            "--------------------\n",
            "Modulus\n",
            "2\n",
            "--------------------\n",
            "Perpangkatan\n",
            "32\n",
            "--------------------\n",
            "Pembagian Pembulatan Flooring\n",
            "1\n"
          ]
        }
      ]
    },
    {
      "cell_type": "markdown",
      "metadata": {
        "id": "ZmgyEEZsb0AU"
      },
      "source": [
        "Latihan Operator 1"
      ]
    },
    {
      "cell_type": "code",
      "metadata": {
        "colab": {
          "base_uri": "https://localhost:8080/"
        },
        "id": "coWPzUGkb-rM",
        "outputId": "355b371e-4b19-47aa-d069-ad5a8b3cb312"
      },
      "source": [
        "#Penjumlahan\n",
        "print('Penjumlahan')\n",
        "print(101+49)\n",
        "\n",
        "#Pengurangan\n",
        "print('-'*20)\n",
        "print('Pengurangan')\n",
        "print(280-120)\n",
        "\n",
        "#Perkalian\n",
        "print('-'*20)\n",
        "print('Perkalian')\n",
        "print(245*500)\n",
        "\n",
        "#Pembagian\n",
        "print('-'*20)\n",
        "print('Pembagian')\n",
        "print(100/4)\n",
        "\n",
        "#Modulus\n",
        "print('-'*20)\n",
        "print('Modulus')\n",
        "print(30%7)\n",
        "\n",
        "#Perpangkatan\n",
        "print('-'*20)\n",
        "print('Perpangkatan')\n",
        "print(4**3)\n",
        "\n",
        "#Pembagian dalam Pembulatan Flooring\n",
        "print('-'*20)\n",
        "print('Pembagian Pembulatan Flooring')\n",
        "print(278//8)"
      ],
      "execution_count": null,
      "outputs": [
        {
          "output_type": "stream",
          "name": "stdout",
          "text": [
            "Penjumlahan\n",
            "150\n",
            "--------------------\n",
            "Pengurangan\n",
            "160\n",
            "--------------------\n",
            "Perkalian\n",
            "122500\n",
            "--------------------\n",
            "Pembagian\n",
            "25.0\n",
            "--------------------\n",
            "Modulus\n",
            "2\n",
            "--------------------\n",
            "Perpangkatan\n",
            "64\n",
            "--------------------\n",
            "Pembagian Pembulatan Flooring\n",
            "34\n"
          ]
        }
      ]
    },
    {
      "cell_type": "markdown",
      "metadata": {
        "id": "0uG1U1JFchL7"
      },
      "source": [
        "2. Operator Assignment\n",
        "\n",
        "Operator assignment digunakan untuk menyimpan nilai menjadi suatu variabel"
      ]
    },
    {
      "cell_type": "code",
      "metadata": {
        "id": "aqFSJI1TdUVN"
      },
      "source": [
        "\"\"\"\n",
        "=   : contohnya x = 5 menjadi x = 5 \n",
        "+=  : contohnya x = x + 5 menjadi x += 5\n",
        "-=  : contohnya x = x - 5 menjadi x -= 5\n",
        "*=  : contohnya x = x * 5 menjadi x *= 5\n",
        "/=  : contohnya x = x / 5 meniadi x /= 5\n",
        "%=  : contohnya x = x % 5 menjadi x %= 5\n",
        "//= : contohnya x = x //5 menjadi x //=5\n",
        "**= : contohnya x = x **5 menjadi x **=5\n",
        "\"\"\""
      ],
      "execution_count": null,
      "outputs": []
    },
    {
      "cell_type": "code",
      "metadata": {
        "colab": {
          "base_uri": "https://localhost:8080/"
        },
        "id": "lWudkZF0eXM3",
        "outputId": "8ba28ae2-7022-4eab-8f53-3611e7d4e29e"
      },
      "source": [
        "# Contoh penggunaan Operator Assignmnet\n",
        "\n",
        "#Penjumlahan \n",
        "print ('Penjumlahan')\n",
        "x =5\n",
        "x =x+5\n",
        "print(x)\n",
        "x=5\n",
        "x+=3\n",
        "print(x)\n",
        "print('-'*20)\n",
        "\n",
        "#Pengurangan\n",
        "print('Pengurangan')\n",
        "x=5\n",
        "x=x-5\n",
        "print(x)\n",
        "x=5\n",
        "x-=3\n",
        "print(x)\n",
        "print('-'*20)\n",
        "\n",
        "#Perkalian\n",
        "print('Perkalian')\n",
        "x=5\n",
        "x=x*5\n",
        "print(x)\n",
        "x=5\n",
        "x*=3\n",
        "print(x)\n",
        "print('-'*20)\n",
        "\n",
        "#Pembagian\n",
        "print('Pembagian')\n",
        "x=5\n",
        "x= x/5\n",
        "print(x)\n",
        "x=5\n",
        "x/=3\n",
        "print(x)\n",
        "print('-'*20)\n",
        "\n",
        "#Modulus\n",
        "print('Modulus')\n",
        "x=5\n",
        "x=x%5\n",
        "print(x)\n",
        "x=5\n",
        "x%=3\n",
        "print(x)\n",
        "print('-'*20)\n",
        "\n",
        "#Pembagian Pembulatan Flooring\n",
        "print('Pembagian Pembulatan Flooring')\n",
        "x=5\n",
        "x=x//5\n",
        "print(x)\n",
        "x=5\n",
        "x//=3\n",
        "print(x)\n",
        "print('-'*20)\n",
        "\n",
        "#Perpangkatan\n",
        "print('Perpangkatan')\n",
        "x=5\n",
        "x=x**5\n",
        "print(x)\n",
        "x=5\n",
        "x**=3\n",
        "print(x)\n",
        "print('-'*20)"
      ],
      "execution_count": null,
      "outputs": [
        {
          "output_type": "stream",
          "name": "stdout",
          "text": [
            "Penjumlahan\n",
            "10\n",
            "8\n",
            "--------------------\n",
            "Pengurangan\n",
            "0\n",
            "2\n",
            "--------------------\n",
            "Perkalian\n",
            "25\n",
            "15\n",
            "--------------------\n",
            "Pembagian\n",
            "1.0\n",
            "1.6666666666666667\n",
            "--------------------\n",
            "Modulus\n",
            "0\n",
            "2\n",
            "--------------------\n",
            "Pembagian Pembulatan Flooring\n",
            "1\n",
            "1\n",
            "--------------------\n",
            "Perpangkatan\n",
            "3125\n",
            "125\n",
            "--------------------\n"
          ]
        }
      ]
    },
    {
      "cell_type": "markdown",
      "metadata": {
        "id": "lrlfzCyMgpRn"
      },
      "source": [
        "Latihan Operator 2"
      ]
    },
    {
      "cell_type": "code",
      "metadata": {
        "colab": {
          "base_uri": "https://localhost:8080/"
        },
        "id": "KAsmiZg3gXRq",
        "outputId": "ff6c3e89-5cbe-4cea-f69c-f42903206d2a"
      },
      "source": [
        "#Penjumlahan \n",
        "print ('Penjumlahan')\n",
        "x =10\n",
        "x =x+90\n",
        "print(x)\n",
        "x=90\n",
        "x+=310\n",
        "print(x)\n",
        "print('-'*20)\n",
        "\n",
        "#Pengurangan\n",
        "print('pengurangan')\n",
        "x=70\n",
        "x=x-20\n",
        "print(x)\n",
        "x=70\n",
        "x-=20\n",
        "print(x)\n",
        "print('-'*20)\n",
        "\n",
        "#Perkalian\n",
        "print('Perkalian')\n",
        "x=7\n",
        "x=x*7\n",
        "print(x)\n",
        "x=7\n",
        "x*=7\n",
        "print(x)\n",
        "print('-'*20)\n",
        "\n",
        "#pembagian\n",
        "print('Pembagian')\n",
        "x=100\n",
        "x= x/4\n",
        "print(x)\n",
        "x=75\n",
        "x/=3\n",
        "print(x)\n",
        "print('-'*20)\n",
        "\n",
        "#Modulus\n",
        "print('Modulus')\n",
        "x=84\n",
        "x=x%5\n",
        "print(x)\n",
        "x=99\n",
        "x%=3\n",
        "print(x)\n",
        "print('-'*20)\n",
        "\n",
        "#Pembagian Flooring\n",
        "print('Pembagian Flooring')\n",
        "x=98\n",
        "x=x//5\n",
        "print(x)\n",
        "x=7\n",
        "x//=3\n",
        "print(x)\n",
        "print('-'*20)\n",
        "\n",
        "#Perpangkatan\n",
        "print('Perpangkatan')\n",
        "x=12\n",
        "x=x**3\n",
        "print(x)\n",
        "x=2\n",
        "x**=10\n",
        "print(x)\n",
        "print('-'*20)"
      ],
      "execution_count": null,
      "outputs": [
        {
          "output_type": "stream",
          "name": "stdout",
          "text": [
            "Penjumlahan\n",
            "100\n",
            "400\n",
            "--------------------\n",
            "pengurangan\n",
            "50\n",
            "50\n",
            "--------------------\n",
            "Perkalian\n",
            "49\n",
            "49\n",
            "--------------------\n",
            "Pembagian\n",
            "25.0\n",
            "25.0\n",
            "--------------------\n",
            "Modulus\n",
            "4\n",
            "0\n",
            "--------------------\n",
            "Pembagian Flooring\n",
            "19\n",
            "2\n",
            "--------------------\n",
            "Perpangkatan\n",
            "1728\n",
            "1024\n",
            "--------------------\n"
          ]
        }
      ]
    },
    {
      "cell_type": "markdown",
      "metadata": {
        "id": "_DazHej-hoNv"
      },
      "source": [
        "3. Operator Pembanding\n",
        "\n",
        "Operator Pembanding digunakan untuk membandingkan 2 nilai atau variabel.\n",
        "\n",
        "macam- macam operator pembanding:\n"
      ]
    },
    {
      "cell_type": "code",
      "metadata": {
        "id": "ZWaSCCqyhxcO"
      },
      "source": [
        "== --> sama dengan\n",
        "!= --> tidak sama dengan\n",
        ">  --> lebih dari\n",
        "<  --> kurang dari\n",
        ">= --> lebih dari sama dengan\n",
        "<= --> kurang dari sama dengan"
      ],
      "execution_count": null,
      "outputs": []
    },
    {
      "cell_type": "markdown",
      "metadata": {
        "id": "egeTNnBricXw"
      },
      "source": [
        "Latihan Operator 3"
      ]
    },
    {
      "cell_type": "code",
      "metadata": {
        "colab": {
          "base_uri": "https://localhost:8080/"
        },
        "id": "ybZr_2zEifR_",
        "outputId": "926da1b9-1517-454c-bda1-4b87dcc26967"
      },
      "source": [
        "print (100==100)\n",
        "print (10!=10)\n",
        "print (4>10)\n",
        "print (10<12)\n",
        "print (1000>=100)\n",
        "print (4<=-2)"
      ],
      "execution_count": null,
      "outputs": [
        {
          "output_type": "stream",
          "name": "stdout",
          "text": [
            "True\n",
            "False\n",
            "False\n",
            "True\n",
            "True\n",
            "False\n"
          ]
        }
      ]
    },
    {
      "cell_type": "markdown",
      "metadata": {
        "id": "kZIHsjf0jbUv"
      },
      "source": [
        "4. Operator Logika\n",
        "\n",
        "Operator logika digunakan untuk mengkombinasikan statement-statement kondisional\n",
        "\n",
        "Macam-macam operator logika"
      ]
    },
    {
      "cell_type": "code",
      "metadata": {
        "id": "wJew2Ln7jsNZ"
      },
      "source": [
        "and -> kondisi menjadi benar apabila semua statementnya benar\n",
        "or  -> kondisi  menjadi benar apabila salah satu statementnya ada yang benar\n",
        "not -> membalik hasil dari benar ke salah dan salah ke benar"
      ],
      "execution_count": null,
      "outputs": []
    },
    {
      "cell_type": "code",
      "metadata": {
        "colab": {
          "base_uri": "https://localhost:8080/"
        },
        "id": "Yjb3NsyBjNo6",
        "outputId": "259043b5-8c52-457b-beaf-258de229607f"
      },
      "source": [
        "# contoh penggunaan operator logika\n",
        "\n",
        "print(True and False)\n",
        "print(True or False)\n",
        "print(not False and True)"
      ],
      "execution_count": null,
      "outputs": [
        {
          "output_type": "stream",
          "name": "stdout",
          "text": [
            "False\n",
            "True\n",
            "True\n"
          ]
        }
      ]
    },
    {
      "cell_type": "markdown",
      "metadata": {
        "id": "a4iNn74Ykyny"
      },
      "source": [
        "Latihan Operator 4"
      ]
    },
    {
      "cell_type": "code",
      "metadata": {
        "colab": {
          "base_uri": "https://localhost:8080/"
        },
        "id": "SPA3WhBFk3HS",
        "outputId": "3c60c9ca-f046-4f9c-9a31-1ae76a9db975"
      },
      "source": [
        "print(True and True)\n",
        "print(False or False)\n",
        "print(False and not True)"
      ],
      "execution_count": null,
      "outputs": [
        {
          "output_type": "stream",
          "name": "stdout",
          "text": [
            "True\n",
            "False\n",
            "False\n"
          ]
        }
      ]
    },
    {
      "cell_type": "markdown",
      "metadata": {
        "id": "ARwD6lzslFwi"
      },
      "source": [
        "5. Operator Keanggotaan\n",
        "\n",
        "Operator keaanggotaan digunakan untuk menguji apakah urutan disajikan dalam suatu objek.\n",
        "\n",
        "macam macam operator keanggotaan"
      ]
    },
    {
      "cell_type": "code",
      "metadata": {
        "id": "otcNOsRjlVo7"
      },
      "source": [
        "'''\n",
        "in   -> # return True ketika nilai tertentu dalam sebuah urutan(himpunan) ada\n",
        "not in -> # return True ketika nilai tertentu dalam sebuah urutan(himpunan) tidak ada\n",
        "'''"
      ],
      "execution_count": null,
      "outputs": []
    },
    {
      "cell_type": "markdown",
      "metadata": {
        "id": "3NRcp8gVmoR5"
      },
      "source": [
        "Latihan Operator 5"
      ]
    },
    {
      "cell_type": "code",
      "metadata": {
        "colab": {
          "base_uri": "https://localhost:8080/"
        },
        "id": "MNnjB8xWnBrd",
        "outputId": "f4cc0aa5-6035-4074-9dd5-6883007ef07d"
      },
      "source": [
        "p= (2,3,5,7,9,11,13)\n",
        "q= 6\n",
        "r= 11\n",
        "s= 7\n",
        "\n",
        "print(q in p)\n",
        "print(r in p)\n",
        "print(s in p)\n",
        "\n",
        "print('-'*20)\n",
        "print('-'*20)\n",
        "\n",
        "a =(3,6,9,12,15)\n",
        "b = 6\n",
        "c = 4\n",
        "d = 12\n",
        "\n",
        "print(b not in a)\n",
        "print(c not in a)\n",
        "print(d not in a)\n",
        "\n",
        "\n"
      ],
      "execution_count": null,
      "outputs": [
        {
          "output_type": "stream",
          "name": "stdout",
          "text": [
            "False\n",
            "True\n",
            "True\n",
            "--------------------\n",
            "--------------------\n",
            "False\n",
            "True\n",
            "False\n"
          ]
        }
      ]
    }
  ]
}